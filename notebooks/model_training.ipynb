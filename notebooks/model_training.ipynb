{
 "cells": [
  {
   "cell_type": "code",
   "execution_count": 1,
   "metadata": {},
   "outputs": [],
   "source": [
    "import pandas as pd\n",
    "import numpy as np\n",
    "import spacy\n",
    "from tqdm import tqdm\n",
    "from spacy.tokens import DocBin\n",
    "import json\n",
    "from youtube_transcript_api import YouTubeTranscriptApi\n",
    "import string\n",
    "import contractions\n",
    "from sklearn.metrics import confusion_matrix, classification_report\n",
    "from googleapiclient.discovery import build\n",
    "import time\n",
    "import os\n",
    "import sys\n"
   ]
  },
  {
   "cell_type": "code",
   "execution_count": 4,
   "metadata": {},
   "outputs": [],
   "source": [
    "def create_train_test_data(files,file_name):\n",
    "    classe = []\n",
    "    annotations = []\n",
    "    count = 0\n",
    "    for file in files:\n",
    "        root = os.getcwd().split('wanderly.ai')[0]\n",
    "        file_path = os.path.join(root, f'wanderly.ai/data/annotations/')\n",
    "        if not os.path.exists(file_path):\n",
    "            os.mkdir(file_path)\n",
    "        json_f = open(file_path + file)\n",
    "\n",
    "        nlp = spacy.blank(\"en\")\n",
    "        training_data = json.load(json_f)\n",
    "        for i in training_data['classes']:\n",
    "            classe.append(i)\n",
    "        for i in training_data['annotations']:\n",
    "            annotations.append(i)\n",
    "        count = count + len(training_data['annotations'])\n",
    "    final_json_file = {'classe':list(set(classe)),'annotations':annotations}\n",
    "    root = os.getcwd().split('wanderly.ai')[0]\n",
    "    file_path = os.path.join(root, f'wanderly.ai/data/')\n",
    "    if not os.path.exists(file_path):\n",
    "        os.mkdir(file_path)\n",
    "    with open(file_path + f'{file_name}.json', \"w\") as file:\n",
    "        json.dump(final_json_file, file, indent=2)\n",
    "\n",
    "    json_f = open(file_path + f'{file_name}.json')\n",
    "\n",
    "    training_data = json.load(json_f)\n",
    "    \n",
    "    # the DocBin will store the example documents\n",
    "    db = DocBin()\n",
    "    compleated=False\n",
    "    missing_sent = []\n",
    "    i=-1\n",
    "    while not compleated:\n",
    "        i = i+1\n",
    "        run = 0\n",
    "        try:\n",
    "            for text, annotations in tqdm(training_data['annotations'][i:]):\n",
    "                try:\n",
    "                    run = run+1\n",
    "                    doc = nlp.make_doc(text)\n",
    "                    ents = []\n",
    "                    for start, end, label in annotations['entities']:\n",
    "                        span = doc.char_span(start, end, label=label, alignment_mode='contract')\n",
    "                        ents.append(span)\n",
    "                    doc.ents = ents\n",
    "                    db.add(doc)\n",
    "                except:\n",
    "                    print(text)\n",
    "            \n",
    "            db.to_disk(file_path + f\"{file_name}.spacy\")\n",
    "            print(\"Saved Success\")\n",
    "            compleated = True\n",
    "        except:\n",
    "            print('error')\n",
    "            i = i + run \n",
    "\n"
   ]
  },
  {
   "cell_type": "code",
   "execution_count": 5,
   "metadata": {},
   "outputs": [
    {
     "name": "stderr",
     "output_type": "stream",
     "text": [
      " 66%|██████▌   | 269/410 [00:00<00:00, 1162.36it/s]\n"
     ]
    },
    {
     "name": "stdout",
     "output_type": "stream",
     "text": [
      "error\n"
     ]
    },
    {
     "name": "stderr",
     "output_type": "stream",
     "text": [
      "  2%|▏         | 3/140 [00:00<00:00, 750.64it/s]\n"
     ]
    },
    {
     "name": "stdout",
     "output_type": "stream",
     "text": [
      "error\n"
     ]
    },
    {
     "name": "stderr",
     "output_type": "stream",
     "text": [
      "  0%|          | 0/136 [00:00<?, ?it/s]\n"
     ]
    },
    {
     "name": "stdout",
     "output_type": "stream",
     "text": [
      "error\n"
     ]
    },
    {
     "name": "stderr",
     "output_type": "stream",
     "text": [
      "  0%|          | 0/135 [00:00<?, ?it/s]\n"
     ]
    },
    {
     "name": "stdout",
     "output_type": "stream",
     "text": [
      "error\n"
     ]
    },
    {
     "name": "stderr",
     "output_type": "stream",
     "text": [
      "  0%|          | 0/134 [00:00<?, ?it/s]\n"
     ]
    },
    {
     "name": "stdout",
     "output_type": "stream",
     "text": [
      "error\n"
     ]
    },
    {
     "name": "stderr",
     "output_type": "stream",
     "text": [
      "  0%|          | 0/133 [00:00<?, ?it/s]\n"
     ]
    },
    {
     "name": "stdout",
     "output_type": "stream",
     "text": [
      "error\n"
     ]
    },
    {
     "name": "stderr",
     "output_type": "stream",
     "text": [
      "  0%|          | 0/132 [00:00<?, ?it/s]\n"
     ]
    },
    {
     "name": "stdout",
     "output_type": "stream",
     "text": [
      "error\n"
     ]
    },
    {
     "name": "stderr",
     "output_type": "stream",
     "text": [
      "  0%|          | 0/131 [00:00<?, ?it/s]\n"
     ]
    },
    {
     "name": "stdout",
     "output_type": "stream",
     "text": [
      "error\n"
     ]
    },
    {
     "name": "stderr",
     "output_type": "stream",
     "text": [
      "  0%|          | 0/130 [00:00<?, ?it/s]\n"
     ]
    },
    {
     "name": "stdout",
     "output_type": "stream",
     "text": [
      "error\n"
     ]
    },
    {
     "name": "stderr",
     "output_type": "stream",
     "text": [
      "  2%|▏         | 2/129 [00:00<00:00, 477.96it/s]\n"
     ]
    },
    {
     "name": "stdout",
     "output_type": "stream",
     "text": [
      "error\n"
     ]
    },
    {
     "name": "stderr",
     "output_type": "stream",
     "text": [
      "  0%|          | 0/126 [00:00<?, ?it/s]\n"
     ]
    },
    {
     "name": "stdout",
     "output_type": "stream",
     "text": [
      "error\n"
     ]
    },
    {
     "name": "stderr",
     "output_type": "stream",
     "text": [
      " 25%|██▍       | 31/125 [00:00<00:00, 1103.30it/s]\n"
     ]
    },
    {
     "name": "stdout",
     "output_type": "stream",
     "text": [
      "error\n"
     ]
    },
    {
     "name": "stderr",
     "output_type": "stream",
     "text": [
      "100%|██████████| 93/93 [00:00<00:00, 1401.76it/s]\n"
     ]
    },
    {
     "name": "stdout",
     "output_type": "stream",
     "text": [
      "Saved Success\n"
     ]
    },
    {
     "name": "stderr",
     "output_type": "stream",
     "text": [
      "100%|██████████| 185/185 [00:00<00:00, 1187.77it/s]"
     ]
    },
    {
     "name": "stdout",
     "output_type": "stream",
     "text": [
      "Saved Success\n"
     ]
    },
    {
     "name": "stderr",
     "output_type": "stream",
     "text": [
      "\n"
     ]
    }
   ],
   "source": [
    "annotations_files_train = [\n",
    "    'annotations_7cPLbiblb84.json',\n",
    "    'annotations_p0MvovsCxCk.json',\n",
    "    'annotations.json',\n",
    "    'annotations_5zA6OFpkPe0.json',\n",
    "]\n",
    "annotations_files_test = [\n",
    "    \n",
    "    'annotations_Lv0PkSkKeSo.json',\n",
    "    'annotation_rm_j6O8y148.json'\n",
    "]\n",
    "create_train_test_data(annotations_files_train,'train_data')\n",
    "create_train_test_data(annotations_files_test,'test_data')"
   ]
  },
  {
   "cell_type": "code",
   "execution_count": 6,
   "metadata": {},
   "outputs": [
    {
     "name": "stdout",
     "output_type": "stream",
     "text": [
      "\u001b[38;5;2m✔ Auto-filled config with all values\u001b[0m\n",
      "\u001b[38;5;2m✔ Saved config\u001b[0m\n",
      "..\\configs\\config.cfg\n",
      "You can now add your data and train your pipeline:\n",
      "python -m spacy train config.cfg --paths.train ./train.spacy --paths.dev ./dev.spacy\n"
     ]
    }
   ],
   "source": [
    "! python -m spacy init fill-config ../configs/base_config.cfg ../configs/config.cfg"
   ]
  },
  {
   "cell_type": "code",
   "execution_count": 71,
   "metadata": {},
   "outputs": [
    {
     "name": "stdout",
     "output_type": "stream",
     "text": [
      "^C\n"
     ]
    }
   ],
   "source": [
    "# Model Training\n",
    "! python -m spacy train ../configs/config.cfg --output ../ --paths.train ../data/train_data.spacy --paths.dev ../data/test_data.spacy"
   ]
  },
  {
   "cell_type": "markdown",
   "metadata": {},
   "source": []
  },
  {
   "cell_type": "markdown",
   "metadata": {},
   "source": [
    "### Model Testing "
   ]
  },
  {
   "cell_type": "code",
   "execution_count": null,
   "metadata": {},
   "outputs": [],
   "source": [
    "json_f = open(F'D:/randomProjects/wamderly/data/annotations/annotations_7cPLbiblb84.json')\n",
    "training_data = json.load(json_f)\n",
    "nlp = spacy.blank(\"en\")\n",
    "i = -1\n",
    "basic_database = dict()\n",
    "compleated=False\n",
    "while not compleated:\n",
    "        i = i+1\n",
    "        run = 0\n",
    "        try:\n",
    "            for text, annotations in tqdm(training_data['annotations'][i:]):\n",
    "                try:\n",
    "                    run = run+1\n",
    "                    for start, end, label in annotations['entities']:\n",
    "                        if label in basic_database.keys(): \n",
    "                            basic_database[str(label)].append(str(text[start:end]))\n",
    "                        else:\n",
    "                            basic_database[label] = []\n",
    "                            basic_database[str(label)].append(str(text[start:end]))\n",
    "                except:\n",
    "                    # print(text)\n",
    "                    continue\n",
    "            # db.to_disk(f\"D:/randomProjects/wamderly/data/{file_name}.spacy\")\n",
    "            print(\"Saved Duccess\")\n",
    "            compleated = True\n",
    "        except:\n",
    "            print('error')\n",
    "            i = i + run \n",
    "basic_database\n",
    "\n",
    "\n",
    "# Loading trained model\n",
    "nlp = spacy.load('../models/ner_mod/model-best')\n",
    "\n",
    "json_f = open(F'D:/randomProjects/wamderly/data/annotations/annotations_7cPLbiblb84.json')\n",
    "training_data = json.load(json_f)\n",
    "\n",
    "test_data = training_data['annotations']\n",
    "\n",
    "y_true = []\n",
    "y_pred = []\n",
    "\n",
    "for text, annotations in test_data:\n",
    "    doc = nlp(text)\n",
    "    pred_entities = {(ent.start_char, ent.end_char): ent.label_ for ent in doc.ents}\n",
    "    true_entities = {(start, end): label for start, end, label in annotations[\"entities\"]}\n",
    "\n",
    "    all_offsets = set(pred_entities.keys()) | set(true_entities.keys())\n",
    "\n",
    "    for offset in all_offsets:\n",
    "        y_true.append(true_entities.get(offset, \"O\"))\n",
    "        y_pred.append(pred_entities.get(offset, \"O\"))\n",
    "\n",
    "# Create confusion matrix\n",
    "labels = sorted(set(y_true + y_pred))\n",
    "cm = confusion_matrix(y_true, y_pred, labels=labels)\n",
    "\n",
    "# Plot\n",
    "df_cm = pd.DataFrame(cm, index=labels, columns=labels)\n",
    "df_cm\n",
    "\n",
    "\n",
    "\n",
    "\n"
   ]
  },
  {
   "cell_type": "code",
   "execution_count": null,
   "metadata": {},
   "outputs": [],
   "source": [
    "class_report = classification_report(y_true, y_pred, labels=labels)\n",
    "print(\"Classification Report:\")\n",
    "print(class_report)"
   ]
  }
 ],
 "metadata": {
  "kernelspec": {
   "display_name": "Python 3",
   "language": "python",
   "name": "python3"
  },
  "language_info": {
   "codemirror_mode": {
    "name": "ipython",
    "version": 3
   },
   "file_extension": ".py",
   "mimetype": "text/x-python",
   "name": "python",
   "nbconvert_exporter": "python",
   "pygments_lexer": "ipython3",
   "version": "3.11.0"
  },
  "orig_nbformat": 4
 },
 "nbformat": 4,
 "nbformat_minor": 2
}
