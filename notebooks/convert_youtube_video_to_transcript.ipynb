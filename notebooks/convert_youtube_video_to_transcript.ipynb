{
 "cells": [
  {
   "cell_type": "code",
   "execution_count": 105,
   "metadata": {},
   "outputs": [],
   "source": [
    "import pandas as pd\n",
    "import numpy as np\n",
    "import spacy\n",
    "from tqdm import tqdm\n",
    "from spacy.tokens import DocBin\n",
    "import json\n",
    "from youtube_transcript_api import YouTubeTranscriptApi\n",
    "import string\n",
    "import contractions\n",
    "import os\n",
    "import sys"
   ]
  },
  {
   "cell_type": "code",
   "execution_count": 106,
   "metadata": {},
   "outputs": [],
   "source": [
    "list_video_id = [\n",
    "    'rm_j6O8y148',\n",
    "    'Lv0PkSkKeSo',\n",
    "    '5zA6OFpkPe0',\n",
    "    'Oz18u64bM8I',\n",
    "    'p0MvovsCxCk',\n",
    "    '7cPLbiblb84'\n",
    "]"
   ]
  },
  {
   "cell_type": "code",
   "execution_count": 107,
   "metadata": {},
   "outputs": [],
   "source": [
    "def cleaning_sentence(text):\n",
    "    \"\"\"\n",
    "    Cleans a sentence by normalizing case, expanding contractions, \n",
    "    removing punctuation and unwanted tokens like 'music'.\n",
    "\n",
    "    Steps performed:\n",
    "    - Converts text to lowercase\n",
    "    - Expands contractions (e.g., \"don't\" -> \"do not\")\n",
    "    - Removes all punctuation characters\n",
    "    - Removes the word 'music'\n",
    "    - Removes extra spaces\n",
    "\n",
    "    Args:\n",
    "        text (str): The input sentence to be cleaned.\n",
    "\n",
    "    Returns:\n",
    "        str: The cleaned and normalized sentence.\n",
    "    \"\"\"\n",
    "\n",
    "    text = text.lower()\n",
    "    PUNCT_TO_REMOVE = string.punctuation\n",
    "    ans = contractions.fix(text).translate(str.maketrans('', '', PUNCT_TO_REMOVE))\n",
    "    ans = ans.replace('music','')\n",
    "    ans = \" \".join(ans.split())\n",
    "    return ans"
   ]
  },
  {
   "cell_type": "code",
   "execution_count": null,
   "metadata": {},
   "outputs": [],
   "source": [
    "def fetch_transcript(video_id):\n",
    "    \"\"\"\n",
    "    Fetches the English transcript for a given YouTube video and saves it to a text file.\n",
    "\n",
    "    This function attempts up to 3 times to retrieve and translate the transcript of a YouTube \n",
    "    video into English or US English. The transcript is then processed using spaCy's NLP pipeline \n",
    "    and each cleaned sentence is written to a file named `transcript_<video_id>.txt` inside the \n",
    "    `wanderly.ai/data/transcripts/` directory.\n",
    "\n",
    "    Args:\n",
    "        video_id (str): The unique ID of the YouTube video.\n",
    "\n",
    "    Raises:\n",
    "        Exception: If the transcript could not be generated after 3 attempts.\n",
    "\n",
    "    \"\"\"\n",
    "\n",
    "    try:\n",
    "        attempt = 0\n",
    "        success = False\n",
    "        # while ((not success) and (attempt<=3)):\n",
    "        ytt_api = YouTubeTranscriptApi()\n",
    "        fetched_transcript = ytt_api.list(video_id)\n",
    "        compleat_en_transcrit = []\n",
    "        for transcript in fetched_transcript:\n",
    "            print('here')\n",
    "            ts = (transcript.translate('en').fetch())   \n",
    "            for i in ts:\n",
    "                compleat_en_transcrit.append(i.text)\n",
    "            print('here 2')\n",
    "\n",
    "        full_ts = ' '.join(compleat_en_transcrit)\n",
    "        nlp = spacy.load(\"en_core_web_lg\")\n",
    "        doc = nlp(full_ts)\n",
    "        root = os.getcwd().split('wanderly.ai')[0]\n",
    "        file_path = os.path.join(root, f'wanderly.ai/data/transcripts/')\n",
    "        if not os.path.exists(file_path):\n",
    "            os.mkdir(file_path)\n",
    "        file = open(file_path+f'transcript_{video_id}.txt',\"w\")\n",
    "        for sent in doc.sents:\n",
    "            try:\n",
    "                file.write(cleaning_sentence(sent.text))\n",
    "                file.write('\\n')\n",
    "                print(sent)\n",
    "            except:\n",
    "                print(sent.text)\n",
    "\n",
    "        file.close()\n",
    "        #     success = True\n",
    "\n",
    "        # if not success: \n",
    "        #     raise Exception(\"Error in generating transcripts\")\n",
    "\n",
    "    except Exception as err:\n",
    "        print(err)\n",
    "    finally:\n",
    "        print(f'Finish {video_id} the transcripts')\n"
   ]
  },
  {
   "cell_type": "code",
   "execution_count": 43,
   "metadata": {},
   "outputs": [
    {
     "name": "stderr",
     "output_type": "stream",
     "text": [
      "  0%|          | 0/6 [00:00<?, ?it/s]"
     ]
    },
    {
     "name": "stdout",
     "output_type": "stream",
     "text": [
      "here\n"
     ]
    },
    {
     "name": "stderr",
     "output_type": "stream",
     "text": [
      " 17%|█▋        | 1/6 [00:01<00:07,  1.47s/it]"
     ]
    },
    {
     "name": "stdout",
     "output_type": "stream",
     "text": [
      "no element found: line 1, column 0\n",
      "Finish rm_j6O8y148 the transcripts\n"
     ]
    },
    {
     "name": "stderr",
     "output_type": "stream",
     "text": [
      " 33%|███▎      | 2/6 [00:02<00:05,  1.38s/it]"
     ]
    },
    {
     "name": "stdout",
     "output_type": "stream",
     "text": [
      "here\n",
      "no element found: line 1, column 0\n",
      "Finish Lv0PkSkKeSo the transcripts\n"
     ]
    },
    {
     "name": "stderr",
     "output_type": "stream",
     "text": [
      " 50%|█████     | 3/6 [00:03<00:03,  1.11s/it]"
     ]
    },
    {
     "name": "stdout",
     "output_type": "stream",
     "text": [
      "here\n",
      "no element found: line 1, column 0\n",
      "Finish 5zA6OFpkPe0 the transcripts\n"
     ]
    },
    {
     "name": "stderr",
     "output_type": "stream",
     "text": [
      " 67%|██████▋   | 4/6 [00:04<00:01,  1.04it/s]"
     ]
    },
    {
     "name": "stdout",
     "output_type": "stream",
     "text": [
      "here\n",
      "no element found: line 1, column 0\n",
      "Finish Oz18u64bM8I the transcripts\n",
      "here\n"
     ]
    },
    {
     "name": "stderr",
     "output_type": "stream",
     "text": [
      " 83%|████████▎ | 5/6 [00:05<00:00,  1.02it/s]"
     ]
    },
    {
     "name": "stdout",
     "output_type": "stream",
     "text": [
      "no element found: line 1, column 0\n",
      "Finish p0MvovsCxCk the transcripts\n"
     ]
    },
    {
     "name": "stderr",
     "output_type": "stream",
     "text": [
      "100%|██████████| 6/6 [00:06<00:00,  1.04s/it]"
     ]
    },
    {
     "name": "stdout",
     "output_type": "stream",
     "text": [
      "here\n",
      "no element found: line 1, column 0\n",
      "Finish 7cPLbiblb84 the transcripts\n"
     ]
    },
    {
     "name": "stderr",
     "output_type": "stream",
     "text": [
      "\n"
     ]
    }
   ],
   "source": [
    "for video_id in tqdm(list_video_id):\n",
    "    fetch_transcript(video_id)"
   ]
  },
  {
   "cell_type": "code",
   "execution_count": 10,
   "metadata": {},
   "outputs": [],
   "source": [
    "from youtube_transcript_api import YouTubeTranscriptApi\n",
    "from youtube_transcript_api._errors import (\n",
    "    TranscriptsDisabled,\n",
    "    NoTranscriptFound,\n",
    "    NotTranslatable,\n",
    "    VideoUnavailable\n",
    ")\n",
    "\n",
    "def fetch_transcript_text(video_id):\n",
    "    try:\n",
    "        transcript_list = YouTubeTranscriptApi.list_transcripts(video_id)\n",
    "\n",
    "        # Try to get directly available English transcript\n",
    "        try:\n",
    "            transcript = transcript_list.find_transcript(['en', 'en-US'])\n",
    "            ts = transcript.fetch()\n",
    "            print('here')\n",
    "        except NoTranscriptFound:\n",
    "            # Try translating if English transcript isn't available\n",
    "            try:\n",
    "                transcript = transcript_list.find_transcript('hi')\n",
    "                print('here 1')\n",
    "                if transcript.is_translatable:\n",
    "                    ts = transcript.translate('en').fetch()\n",
    "                    print('here 2')\n",
    "                else:\n",
    "                    print(f\"Transcript for {video_id} is not translatable.\")\n",
    "                    return None\n",
    "                print(3)\n",
    "            except Exception as e:\n",
    "                print(f\"Translation failed for {video_id}: {e}\")\n",
    "                return None\n",
    "\n",
    "        return [entry['text'] for entry in ts]\n",
    "\n",
    "    except (TranscriptsDisabled, NoTranscriptFound, NotTranslatable, VideoUnavailable) as e:\n",
    "        print(f\"Transcript not available for {video_id}: {e}\")\n",
    "        return None\n"
   ]
  },
  {
   "cell_type": "code",
   "execution_count": 11,
   "metadata": {},
   "outputs": [
    {
     "name": "stdout",
     "output_type": "stream",
     "text": [
      "Translation failed for rm_j6O8y148: \n",
      "Could not retrieve a transcript for the video https://www.youtube.com/watch?v=rm_j6O8y148! This is most likely caused by:\n",
      "\n",
      "No transcripts were found for any of the requested language codes: hi\n",
      "\n",
      "For this video (rm_j6O8y148) transcripts are available in the following languages:\n",
      "\n",
      "(MANUALLY CREATED)\n",
      "None\n",
      "\n",
      "(GENERATED)\n",
      " - hi (\"Hindi (auto-generated)\")[TRANSLATABLE]\n",
      "\n",
      "(TRANSLATION LANGUAGES)\n",
      " - ab (\"Abkhazian\")\n",
      " - aa (\"Afar\")\n",
      " - af (\"Afrikaans\")\n",
      " - ak (\"Akan\")\n",
      " - sq (\"Albanian\")\n",
      " - am (\"Amharic\")\n",
      " - ar (\"Arabic\")\n",
      " - hy (\"Armenian\")\n",
      " - as (\"Assamese\")\n",
      " - ay (\"Aymara\")\n",
      " - az (\"Azerbaijani\")\n",
      " - bn (\"Bangla\")\n",
      " - ba (\"Bashkir\")\n",
      " - eu (\"Basque\")\n",
      " - be (\"Belarusian\")\n",
      " - bho (\"Bhojpuri\")\n",
      " - bs (\"Bosnian\")\n",
      " - br (\"Breton\")\n",
      " - bg (\"Bulgarian\")\n",
      " - my (\"Burmese\")\n",
      " - ca (\"Catalan\")\n",
      " - ceb (\"Cebuano\")\n",
      " - zh-Hans (\"Chinese (Simplified)\")\n",
      " - zh-Hant (\"Chinese (Traditional)\")\n",
      " - co (\"Corsican\")\n",
      " - hr (\"Croatian\")\n",
      " - cs (\"Czech\")\n",
      " - da (\"Danish\")\n",
      " - dv (\"Divehi\")\n",
      " - nl (\"Dutch\")\n",
      " - dz (\"Dzongkha\")\n",
      " - en (\"English\")\n",
      " - eo (\"Esperanto\")\n",
      " - et (\"Estonian\")\n",
      " - ee (\"Ewe\")\n",
      " - fo (\"Faroese\")\n",
      " - fj (\"Fijian\")\n",
      " - fil (\"Filipino\")\n",
      " - fi (\"Finnish\")\n",
      " - fr (\"French\")\n",
      " - gaa (\"Ga\")\n",
      " - gl (\"Galician\")\n",
      " - lg (\"Ganda\")\n",
      " - ka (\"Georgian\")\n",
      " - de (\"German\")\n",
      " - el (\"Greek\")\n",
      " - gn (\"Guarani\")\n",
      " - gu (\"Gujarati\")\n",
      " - ht (\"Haitian Creole\")\n",
      " - ha (\"Hausa\")\n",
      " - haw (\"Hawaiian\")\n",
      " - iw (\"Hebrew\")\n",
      " - hi (\"Hindi\")\n",
      " - hmn (\"Hmong\")\n",
      " - hu (\"Hungarian\")\n",
      " - is (\"Icelandic\")\n",
      " - ig (\"Igbo\")\n",
      " - id (\"Indonesian\")\n",
      " - iu (\"Inuktitut\")\n",
      " - ga (\"Irish\")\n",
      " - it (\"Italian\")\n",
      " - ja (\"Japanese\")\n",
      " - jv (\"Javanese\")\n",
      " - kl (\"Kalaallisut\")\n",
      " - kn (\"Kannada\")\n",
      " - kk (\"Kazakh\")\n",
      " - kha (\"Khasi\")\n",
      " - km (\"Khmer\")\n",
      " - rw (\"Kinyarwanda\")\n",
      " - ko (\"Korean\")\n",
      " - kri (\"Krio\")\n",
      " - ku (\"Kurdish\")\n",
      " - ky (\"Kyrgyz\")\n",
      " - lo (\"Lao\")\n",
      " - la (\"Latin\")\n",
      " - lv (\"Latvian\")\n",
      " - ln (\"Lingala\")\n",
      " - lt (\"Lithuanian\")\n",
      " - lua (\"Luba-Lulua\")\n",
      " - luo (\"Luo\")\n",
      " - lb (\"Luxembourgish\")\n",
      " - mk (\"Macedonian\")\n",
      " - mg (\"Malagasy\")\n",
      " - ms (\"Malay\")\n",
      " - ml (\"Malayalam\")\n",
      " - mt (\"Maltese\")\n",
      " - gv (\"Manx\")\n",
      " - mi (\"Māori\")\n",
      " - mr (\"Marathi\")\n",
      " - mn (\"Mongolian\")\n",
      " - mfe (\"Morisyen\")\n",
      " - ne (\"Nepali\")\n",
      " - new (\"Newari\")\n",
      " - nso (\"Northern Sotho\")\n",
      " - no (\"Norwegian\")\n",
      " - ny (\"Nyanja\")\n",
      " - oc (\"Occitan\")\n",
      " - or (\"Odia\")\n",
      " - om (\"Oromo\")\n",
      " - os (\"Ossetic\")\n",
      " - pam (\"Pampanga\")\n",
      " - ps (\"Pashto\")\n",
      " - fa (\"Persian\")\n",
      " - pl (\"Polish\")\n",
      " - pt (\"Portuguese\")\n",
      " - pt-PT (\"Portuguese (Portugal)\")\n",
      " - pa (\"Punjabi\")\n",
      " - qu (\"Quechua\")\n",
      " - ro (\"Romanian\")\n",
      " - rn (\"Rundi\")\n",
      " - ru (\"Russian\")\n",
      " - sm (\"Samoan\")\n",
      " - sg (\"Sango\")\n",
      " - sa (\"Sanskrit\")\n",
      " - gd (\"Scottish Gaelic\")\n",
      " - sr (\"Serbian\")\n",
      " - crs (\"Seselwa Creole French\")\n",
      " - sn (\"Shona\")\n",
      " - sd (\"Sindhi\")\n",
      " - si (\"Sinhala\")\n",
      " - sk (\"Slovak\")\n",
      " - sl (\"Slovenian\")\n",
      " - so (\"Somali\")\n",
      " - st (\"Southern Sotho\")\n",
      " - es (\"Spanish\")\n",
      " - su (\"Sundanese\")\n",
      " - sw (\"Swahili\")\n",
      " - ss (\"Swati\")\n",
      " - sv (\"Swedish\")\n",
      " - tg (\"Tajik\")\n",
      " - ta (\"Tamil\")\n",
      " - tt (\"Tatar\")\n",
      " - te (\"Telugu\")\n",
      " - th (\"Thai\")\n",
      " - bo (\"Tibetan\")\n",
      " - ti (\"Tigrinya\")\n",
      " - to (\"Tongan\")\n",
      " - ts (\"Tsonga\")\n",
      " - tn (\"Tswana\")\n",
      " - tum (\"Tumbuka\")\n",
      " - tr (\"Turkish\")\n",
      " - tk (\"Turkmen\")\n",
      " - uk (\"Ukrainian\")\n",
      " - ur (\"Urdu\")\n",
      " - ug (\"Uyghur\")\n",
      " - uz (\"Uzbek\")\n",
      " - ve (\"Venda\")\n",
      " - vi (\"Vietnamese\")\n",
      " - war (\"Waray\")\n",
      " - cy (\"Welsh\")\n",
      " - fy (\"Western Frisian\")\n",
      " - wo (\"Wolof\")\n",
      " - xh (\"Xhosa\")\n",
      " - yi (\"Yiddish\")\n",
      " - yo (\"Yoruba\")\n",
      " - zu (\"Zulu\")\n",
      "\n",
      "If you are sure that the described cause is not responsible for this error and that a transcript should be retrievable, please create an issue at https://github.com/jdepoix/youtube-transcript-api/issues. Please add which version of youtube_transcript_api you are using and provide the information needed to replicate the error. Also make sure that there are no open issues which already describe your problem!\n"
     ]
    }
   ],
   "source": [
    "fetch_transcript_text('rm_j6O8y148')"
   ]
  },
  {
   "cell_type": "code",
   "execution_count": null,
   "metadata": {},
   "outputs": [
    {
     "ename": "TypeError",
     "evalue": "string argument expected, got 'ExpatError'",
     "output_type": "error",
     "traceback": [
      "\u001b[31m---------------------------------------------------------------------------\u001b[39m",
      "\u001b[31mExpatError\u001b[39m                                Traceback (most recent call last)",
      "\u001b[36mFile \u001b[39m\u001b[32mc:\\Users\\Jatin Arora\\AppData\\Local\\Programs\\Python\\Python311\\Lib\\xml\\etree\\ElementTree.py:1716\u001b[39m, in \u001b[36mXMLParser.close\u001b[39m\u001b[34m(self)\u001b[39m\n\u001b[32m   1715\u001b[39m \u001b[38;5;28;01mtry\u001b[39;00m:\n\u001b[32m-> \u001b[39m\u001b[32m1716\u001b[39m     \u001b[38;5;28;43mself\u001b[39;49m\u001b[43m.\u001b[49m\u001b[43mparser\u001b[49m\u001b[43m.\u001b[49m\u001b[43mParse\u001b[49m\u001b[43m(\u001b[49m\u001b[33;43mb\u001b[39;49m\u001b[33;43m\"\u001b[39;49m\u001b[33;43m\"\u001b[39;49m\u001b[43m,\u001b[49m\u001b[43m \u001b[49m\u001b[38;5;28;43;01mTrue\u001b[39;49;00m\u001b[43m)\u001b[49m \u001b[38;5;66;03m# end of data\u001b[39;00m\n\u001b[32m   1717\u001b[39m \u001b[38;5;28;01mexcept\u001b[39;00m \u001b[38;5;28mself\u001b[39m._error \u001b[38;5;28;01mas\u001b[39;00m v:\n",
      "\u001b[31mExpatError\u001b[39m: no element found: line 1, column 0",
      "\nDuring handling of the above exception, another exception occurred:\n",
      "\u001b[31mParseError\u001b[39m                                Traceback (most recent call last)",
      "    \u001b[31m[... skipping hidden 1 frame]\u001b[39m\n",
      "\u001b[36mCell\u001b[39m\u001b[36m \u001b[39m\u001b[32mIn[29]\u001b[39m\u001b[32m, line 3\u001b[39m\n\u001b[32m      2\u001b[39m \u001b[38;5;28;01mfor\u001b[39;00m i \u001b[38;5;129;01min\u001b[39;00m transcript_list:\n\u001b[32m----> \u001b[39m\u001b[32m3\u001b[39m     \u001b[43mi\u001b[49m\u001b[43m.\u001b[49m\u001b[43mtranslate\u001b[49m\u001b[43m(\u001b[49m\u001b[33;43m'\u001b[39;49m\u001b[33;43men\u001b[39;49m\u001b[33;43m'\u001b[39;49m\u001b[43m)\u001b[49m\u001b[43m.\u001b[49m\u001b[43mfetch\u001b[49m\u001b[43m(\u001b[49m\u001b[43m)\u001b[49m\n",
      "\u001b[36mFile \u001b[39m\u001b[32mc:\\Users\\Jatin Arora\\AppData\\Local\\Programs\\Python\\Python311\\Lib\\site-packages\\youtube_transcript_api\\_transcripts.py:134\u001b[39m, in \u001b[36mTranscript.fetch\u001b[39m\u001b[34m(self, preserve_formatting)\u001b[39m\n\u001b[32m    133\u001b[39m response = \u001b[38;5;28mself\u001b[39m._http_client.get(\u001b[38;5;28mself\u001b[39m._url)\n\u001b[32m--> \u001b[39m\u001b[32m134\u001b[39m snippets = \u001b[43m_TranscriptParser\u001b[49m\u001b[43m(\u001b[49m\u001b[43mpreserve_formatting\u001b[49m\u001b[43m=\u001b[49m\u001b[43mpreserve_formatting\u001b[49m\u001b[43m)\u001b[49m\u001b[43m.\u001b[49m\u001b[43mparse\u001b[49m\u001b[43m(\u001b[49m\n\u001b[32m    135\u001b[39m \u001b[43m    \u001b[49m\u001b[43m_raise_http_errors\u001b[49m\u001b[43m(\u001b[49m\u001b[43mresponse\u001b[49m\u001b[43m,\u001b[49m\u001b[43m \u001b[49m\u001b[38;5;28;43mself\u001b[39;49m\u001b[43m.\u001b[49m\u001b[43mvideo_id\u001b[49m\u001b[43m)\u001b[49m\u001b[43m.\u001b[49m\u001b[43mtext\u001b[49m\u001b[43m,\u001b[49m\n\u001b[32m    136\u001b[39m \u001b[43m\u001b[49m\u001b[43m)\u001b[49m\n\u001b[32m    137\u001b[39m \u001b[38;5;28;01mreturn\u001b[39;00m FetchedTranscript(\n\u001b[32m    138\u001b[39m     snippets=snippets,\n\u001b[32m    139\u001b[39m     video_id=\u001b[38;5;28mself\u001b[39m.video_id,\n\u001b[32m   (...)\u001b[39m\u001b[32m    142\u001b[39m     is_generated=\u001b[38;5;28mself\u001b[39m.is_generated,\n\u001b[32m    143\u001b[39m )\n",
      "\u001b[36mFile \u001b[39m\u001b[32mc:\\Users\\Jatin Arora\\AppData\\Local\\Programs\\Python\\Python311\\Lib\\site-packages\\youtube_transcript_api\\_transcripts.py:474\u001b[39m, in \u001b[36m_TranscriptParser.parse\u001b[39m\u001b[34m(self, raw_data)\u001b[39m\n\u001b[32m    467\u001b[39m \u001b[38;5;28;01mdef\u001b[39;00m\u001b[38;5;250m \u001b[39m\u001b[34mparse\u001b[39m(\u001b[38;5;28mself\u001b[39m, raw_data: \u001b[38;5;28mstr\u001b[39m) -> List[FetchedTranscriptSnippet]:\n\u001b[32m    468\u001b[39m     \u001b[38;5;28;01mreturn\u001b[39;00m [\n\u001b[32m    469\u001b[39m         FetchedTranscriptSnippet(\n\u001b[32m    470\u001b[39m             text=re.sub(\u001b[38;5;28mself\u001b[39m._html_regex, \u001b[33m\"\u001b[39m\u001b[33m\"\u001b[39m, unescape(xml_element.text)),\n\u001b[32m    471\u001b[39m             start=\u001b[38;5;28mfloat\u001b[39m(xml_element.attrib[\u001b[33m\"\u001b[39m\u001b[33mstart\u001b[39m\u001b[33m\"\u001b[39m]),\n\u001b[32m    472\u001b[39m             duration=\u001b[38;5;28mfloat\u001b[39m(xml_element.attrib.get(\u001b[33m\"\u001b[39m\u001b[33mdur\u001b[39m\u001b[33m\"\u001b[39m, \u001b[33m\"\u001b[39m\u001b[33m0.0\u001b[39m\u001b[33m\"\u001b[39m)),\n\u001b[32m    473\u001b[39m         )\n\u001b[32m--> \u001b[39m\u001b[32m474\u001b[39m         \u001b[38;5;28;01mfor\u001b[39;00m xml_element \u001b[38;5;129;01min\u001b[39;00m \u001b[43mElementTree\u001b[49m\u001b[43m.\u001b[49m\u001b[43mfromstring\u001b[49m\u001b[43m(\u001b[49m\u001b[43mraw_data\u001b[49m\u001b[43m)\u001b[49m\n\u001b[32m    475\u001b[39m         \u001b[38;5;28;01mif\u001b[39;00m xml_element.text \u001b[38;5;129;01mis\u001b[39;00m \u001b[38;5;129;01mnot\u001b[39;00m \u001b[38;5;28;01mNone\u001b[39;00m\n\u001b[32m    476\u001b[39m     ]\n",
      "\u001b[36mFile \u001b[39m\u001b[32mc:\\Users\\Jatin Arora\\AppData\\Local\\Programs\\Python\\Python311\\Lib\\site-packages\\defusedxml\\common.py:127\u001b[39m, in \u001b[36m_generate_etree_functions.<locals>.fromstring\u001b[39m\u001b[34m(text, forbid_dtd, forbid_entities, forbid_external)\u001b[39m\n\u001b[32m    126\u001b[39m parser.feed(text)\n\u001b[32m--> \u001b[39m\u001b[32m127\u001b[39m \u001b[38;5;28;01mreturn\u001b[39;00m \u001b[43mparser\u001b[49m\u001b[43m.\u001b[49m\u001b[43mclose\u001b[49m\u001b[43m(\u001b[49m\u001b[43m)\u001b[49m\n",
      "\u001b[36mFile \u001b[39m\u001b[32mc:\\Users\\Jatin Arora\\AppData\\Local\\Programs\\Python\\Python311\\Lib\\xml\\etree\\ElementTree.py:1718\u001b[39m, in \u001b[36mXMLParser.close\u001b[39m\u001b[34m(self)\u001b[39m\n\u001b[32m   1717\u001b[39m \u001b[38;5;28;01mexcept\u001b[39;00m \u001b[38;5;28mself\u001b[39m._error \u001b[38;5;28;01mas\u001b[39;00m v:\n\u001b[32m-> \u001b[39m\u001b[32m1718\u001b[39m     \u001b[38;5;28;43mself\u001b[39;49m\u001b[43m.\u001b[49m\u001b[43m_raiseerror\u001b[49m\u001b[43m(\u001b[49m\u001b[43mv\u001b[49m\u001b[43m)\u001b[49m\n\u001b[32m   1719\u001b[39m \u001b[38;5;28;01mtry\u001b[39;00m:\n",
      "\u001b[36mFile \u001b[39m\u001b[32mc:\\Users\\Jatin Arora\\AppData\\Local\\Programs\\Python\\Python311\\Lib\\xml\\etree\\ElementTree.py:1618\u001b[39m, in \u001b[36mXMLParser._raiseerror\u001b[39m\u001b[34m(self, value)\u001b[39m\n\u001b[32m   1617\u001b[39m err.position = value.lineno, value.offset\n\u001b[32m-> \u001b[39m\u001b[32m1618\u001b[39m \u001b[38;5;28;01mraise\u001b[39;00m err\n",
      "\u001b[31mParseError\u001b[39m: no element found: line 1, column 0 (<string>)",
      "\nDuring handling of the above exception, another exception occurred:\n",
      "\u001b[31mTypeError\u001b[39m                                 Traceback (most recent call last)",
      "    \u001b[31m[... skipping hidden 1 frame]\u001b[39m\n",
      "\u001b[36mFile \u001b[39m\u001b[32m~\\AppData\\Roaming\\Python\\Python311\\site-packages\\IPython\\core\\interactiveshell.py:2146\u001b[39m, in \u001b[36mInteractiveShell.showtraceback\u001b[39m\u001b[34m(self, exc_tuple, filename, tb_offset, exception_only, running_compiled_code)\u001b[39m\n\u001b[32m   2141\u001b[39m     \u001b[38;5;28;01mreturn\u001b[39;00m\n\u001b[32m   2143\u001b[39m \u001b[38;5;28;01mif\u001b[39;00m \u001b[38;5;28missubclass\u001b[39m(etype, \u001b[38;5;167;01mSyntaxError\u001b[39;00m):\n\u001b[32m   2144\u001b[39m     \u001b[38;5;66;03m# Though this won't be called by syntax errors in the input\u001b[39;00m\n\u001b[32m   2145\u001b[39m     \u001b[38;5;66;03m# line, there may be SyntaxError cases with imported code.\u001b[39;00m\n\u001b[32m-> \u001b[39m\u001b[32m2146\u001b[39m     \u001b[38;5;28;43mself\u001b[39;49m\u001b[43m.\u001b[49m\u001b[43mshowsyntaxerror\u001b[49m\u001b[43m(\u001b[49m\u001b[43mfilename\u001b[49m\u001b[43m,\u001b[49m\u001b[43m \u001b[49m\u001b[43mrunning_compiled_code\u001b[49m\u001b[43m)\u001b[49m\n\u001b[32m   2147\u001b[39m \u001b[38;5;28;01melif\u001b[39;00m etype \u001b[38;5;129;01mis\u001b[39;00m UsageError:\n\u001b[32m   2148\u001b[39m     \u001b[38;5;28mself\u001b[39m.show_usage_error(value)\n",
      "\u001b[36mFile \u001b[39m\u001b[32m~\\AppData\\Roaming\\Python\\Python311\\site-packages\\IPython\\core\\interactiveshell.py:2236\u001b[39m, in \u001b[36mInteractiveShell.showsyntaxerror\u001b[39m\u001b[34m(self, filename, running_compiled_code)\u001b[39m\n\u001b[32m   2234\u001b[39m \u001b[38;5;66;03m# If the error occurred when executing compiled code, we should provide full stacktrace.\u001b[39;00m\n\u001b[32m   2235\u001b[39m elist = traceback.extract_tb(last_traceback) \u001b[38;5;28;01mif\u001b[39;00m running_compiled_code \u001b[38;5;28;01melse\u001b[39;00m []\n\u001b[32m-> \u001b[39m\u001b[32m2236\u001b[39m stb = \u001b[38;5;28;43mself\u001b[39;49m\u001b[43m.\u001b[49m\u001b[43mSyntaxTB\u001b[49m\u001b[43m.\u001b[49m\u001b[43mstructured_traceback\u001b[49m\u001b[43m(\u001b[49m\u001b[43metype\u001b[49m\u001b[43m,\u001b[49m\u001b[43m \u001b[49m\u001b[43mvalue\u001b[49m\u001b[43m,\u001b[49m\u001b[43m \u001b[49m\u001b[43melist\u001b[49m\u001b[43m)\u001b[49m\n\u001b[32m   2237\u001b[39m \u001b[38;5;28mself\u001b[39m._showtraceback(etype, value, stb)\n",
      "\u001b[36mFile \u001b[39m\u001b[32m~\\AppData\\Roaming\\Python\\Python311\\site-packages\\IPython\\core\\ultratb.py:1240\u001b[39m, in \u001b[36mSyntaxTB.structured_traceback\u001b[39m\u001b[34m(self, etype, evalue, etb, tb_offset, context)\u001b[39m\n\u001b[32m   1238\u001b[39m         value.text = newtext\n\u001b[32m   1239\u001b[39m \u001b[38;5;28mself\u001b[39m.last_syntax_error = value\n\u001b[32m-> \u001b[39m\u001b[32m1240\u001b[39m \u001b[38;5;28;01mreturn\u001b[39;00m \u001b[38;5;28;43msuper\u001b[39;49m\u001b[43m(\u001b[49m\u001b[43mSyntaxTB\u001b[49m\u001b[43m,\u001b[49m\u001b[43m \u001b[49m\u001b[38;5;28;43mself\u001b[39;49m\u001b[43m)\u001b[49m\u001b[43m.\u001b[49m\u001b[43mstructured_traceback\u001b[49m\u001b[43m(\u001b[49m\n\u001b[32m   1241\u001b[39m \u001b[43m    \u001b[49m\u001b[43metype\u001b[49m\u001b[43m,\u001b[49m\u001b[43m \u001b[49m\u001b[43mvalue\u001b[49m\u001b[43m,\u001b[49m\u001b[43m \u001b[49m\u001b[43metb\u001b[49m\u001b[43m,\u001b[49m\u001b[43m \u001b[49m\u001b[43mtb_offset\u001b[49m\u001b[43m=\u001b[49m\u001b[43mtb_offset\u001b[49m\u001b[43m,\u001b[49m\u001b[43m \u001b[49m\u001b[43mcontext\u001b[49m\u001b[43m=\u001b[49m\u001b[43mcontext\u001b[49m\n\u001b[32m   1242\u001b[39m \u001b[43m\u001b[49m\u001b[43m)\u001b[49m\n",
      "\u001b[36mFile \u001b[39m\u001b[32m~\\AppData\\Roaming\\Python\\Python311\\site-packages\\IPython\\core\\ultratb.py:212\u001b[39m, in \u001b[36mListTB.structured_traceback\u001b[39m\u001b[34m(self, etype, evalue, etb, tb_offset, context)\u001b[39m\n\u001b[32m    210\u001b[39m     out_list.extend(\u001b[38;5;28mself\u001b[39m._format_list(elist))\n\u001b[32m    211\u001b[39m \u001b[38;5;66;03m# The exception info should be a single entry in the list.\u001b[39;00m\n\u001b[32m--> \u001b[39m\u001b[32m212\u001b[39m lines = \u001b[33m\"\u001b[39m\u001b[33m\"\u001b[39m.join(\u001b[38;5;28;43mself\u001b[39;49m\u001b[43m.\u001b[49m\u001b[43m_format_exception_only\u001b[49m\u001b[43m(\u001b[49m\u001b[43metype\u001b[49m\u001b[43m,\u001b[49m\u001b[43m \u001b[49m\u001b[43mevalue\u001b[49m\u001b[43m)\u001b[49m)\n\u001b[32m    213\u001b[39m out_list.append(lines)\n\u001b[32m    215\u001b[39m \u001b[38;5;66;03m# Find chained exceptions if we have a traceback (not for exception-only mode)\u001b[39;00m\n",
      "\u001b[36mFile \u001b[39m\u001b[32m~\\AppData\\Roaming\\Python\\Python311\\site-packages\\IPython\\core\\ultratb.py:374\u001b[39m, in \u001b[36mListTB._format_exception_only\u001b[39m\u001b[34m(self, etype, value)\u001b[39m\n\u001b[32m    371\u001b[39m     s = \u001b[38;5;28mself\u001b[39m._some_str(value)\n\u001b[32m    372\u001b[39m \u001b[38;5;28;01mif\u001b[39;00m s:\n\u001b[32m    373\u001b[39m     output_list.append(\n\u001b[32m--> \u001b[39m\u001b[32m374\u001b[39m         \u001b[43mtheme_table\u001b[49m\u001b[43m[\u001b[49m\u001b[38;5;28;43mself\u001b[39;49m\u001b[43m.\u001b[49m\u001b[43m_theme_name\u001b[49m\u001b[43m]\u001b[49m\u001b[43m.\u001b[49m\u001b[43mformat\u001b[49m\u001b[43m(\u001b[49m\n\u001b[32m    375\u001b[39m \u001b[43m            \u001b[49m\u001b[43mstype_tokens\u001b[49m\n\u001b[32m    376\u001b[39m \u001b[43m            \u001b[49m\u001b[43m+\u001b[49m\u001b[43m \u001b[49m\u001b[43m[\u001b[49m\n\u001b[32m    377\u001b[39m \u001b[43m                \u001b[49m\u001b[43m(\u001b[49m\u001b[43mToken\u001b[49m\u001b[43m.\u001b[49m\u001b[43mExcName\u001b[49m\u001b[43m,\u001b[49m\u001b[43m \u001b[49m\u001b[33;43m\"\u001b[39;49m\u001b[33;43m:\u001b[39;49m\u001b[33;43m\"\u001b[39;49m\u001b[43m)\u001b[49m\u001b[43m,\u001b[49m\n\u001b[32m    378\u001b[39m \u001b[43m                \u001b[49m\u001b[43m(\u001b[49m\u001b[43mToken\u001b[49m\u001b[43m,\u001b[49m\u001b[43m \u001b[49m\u001b[33;43m\"\u001b[39;49m\u001b[33;43m \u001b[39;49m\u001b[33;43m\"\u001b[39;49m\u001b[43m)\u001b[49m\u001b[43m,\u001b[49m\n\u001b[32m    379\u001b[39m \u001b[43m                \u001b[49m\u001b[43m(\u001b[49m\u001b[43mToken\u001b[49m\u001b[43m,\u001b[49m\u001b[43m \u001b[49m\u001b[43ms\u001b[49m\u001b[43m)\u001b[49m\u001b[43m,\u001b[49m\n\u001b[32m    380\u001b[39m \u001b[43m                \u001b[49m\u001b[43m(\u001b[49m\u001b[43mToken\u001b[49m\u001b[43m,\u001b[49m\u001b[43m \u001b[49m\u001b[33;43m\"\u001b[39;49m\u001b[38;5;130;43;01m\\n\u001b[39;49;00m\u001b[33;43m\"\u001b[39;49m\u001b[43m)\u001b[49m\u001b[43m,\u001b[49m\n\u001b[32m    381\u001b[39m \u001b[43m            \u001b[49m\u001b[43m]\u001b[49m\n\u001b[32m    382\u001b[39m \u001b[43m        \u001b[49m\u001b[43m)\u001b[49m\n\u001b[32m    383\u001b[39m     )\n\u001b[32m    384\u001b[39m \u001b[38;5;28;01melse\u001b[39;00m:\n\u001b[32m    385\u001b[39m     output_list.append(\u001b[33m\"\u001b[39m\u001b[38;5;132;01m%s\u001b[39;00m\u001b[38;5;130;01m\\n\u001b[39;00m\u001b[33m\"\u001b[39m % stype)\n",
      "\u001b[36mFile \u001b[39m\u001b[32m~\\AppData\\Roaming\\Python\\Python311\\site-packages\\IPython\\utils\\PyColorize.py:66\u001b[39m, in \u001b[36mTheme.format\u001b[39m\u001b[34m(self, stream)\u001b[39m\n\u001b[32m     64\u001b[39m \u001b[38;5;28;01mdef\u001b[39;00m\u001b[38;5;250m \u001b[39m\u001b[34mformat\u001b[39m(\u001b[38;5;28mself\u001b[39m, stream: TokenStream) -> \u001b[38;5;28mstr\u001b[39m:\n\u001b[32m---> \u001b[39m\u001b[32m66\u001b[39m     \u001b[38;5;28;01mreturn\u001b[39;00m \u001b[43mpygments\u001b[49m\u001b[43m.\u001b[49m\u001b[43mformat\u001b[49m\u001b[43m(\u001b[49m\u001b[43mstream\u001b[49m\u001b[43m,\u001b[49m\u001b[43m \u001b[49m\u001b[38;5;28;43mself\u001b[39;49m\u001b[43m.\u001b[49m\u001b[43m_formatter\u001b[49m\u001b[43m)\u001b[49m\n",
      "\u001b[36mFile \u001b[39m\u001b[32m~\\AppData\\Roaming\\Python\\Python311\\site-packages\\pygments\\__init__.py:64\u001b[39m, in \u001b[36mformat\u001b[39m\u001b[34m(tokens, formatter, outfile)\u001b[39m\n\u001b[32m     62\u001b[39m \u001b[38;5;28;01mif\u001b[39;00m \u001b[38;5;129;01mnot\u001b[39;00m outfile:\n\u001b[32m     63\u001b[39m     realoutfile = \u001b[38;5;28mgetattr\u001b[39m(formatter, \u001b[33m'\u001b[39m\u001b[33mencoding\u001b[39m\u001b[33m'\u001b[39m, \u001b[38;5;28;01mNone\u001b[39;00m) \u001b[38;5;129;01mand\u001b[39;00m BytesIO() \u001b[38;5;129;01mor\u001b[39;00m StringIO()\n\u001b[32m---> \u001b[39m\u001b[32m64\u001b[39m     \u001b[43mformatter\u001b[49m\u001b[43m.\u001b[49m\u001b[43mformat\u001b[49m\u001b[43m(\u001b[49m\u001b[43mtokens\u001b[49m\u001b[43m,\u001b[49m\u001b[43m \u001b[49m\u001b[43mrealoutfile\u001b[49m\u001b[43m)\u001b[49m\n\u001b[32m     65\u001b[39m     \u001b[38;5;28;01mreturn\u001b[39;00m realoutfile.getvalue()\n\u001b[32m     66\u001b[39m \u001b[38;5;28;01melse\u001b[39;00m:\n",
      "\u001b[36mFile \u001b[39m\u001b[32m~\\AppData\\Roaming\\Python\\Python311\\site-packages\\pygments\\formatters\\terminal256.py:250\u001b[39m, in \u001b[36mTerminal256Formatter.format\u001b[39m\u001b[34m(self, tokensource, outfile)\u001b[39m\n\u001b[32m    249\u001b[39m \u001b[38;5;28;01mdef\u001b[39;00m\u001b[38;5;250m \u001b[39m\u001b[34mformat\u001b[39m(\u001b[38;5;28mself\u001b[39m, tokensource, outfile):\n\u001b[32m--> \u001b[39m\u001b[32m250\u001b[39m     \u001b[38;5;28;01mreturn\u001b[39;00m \u001b[43mFormatter\u001b[49m\u001b[43m.\u001b[49m\u001b[43mformat\u001b[49m\u001b[43m(\u001b[49m\u001b[38;5;28;43mself\u001b[39;49m\u001b[43m,\u001b[49m\u001b[43m \u001b[49m\u001b[43mtokensource\u001b[49m\u001b[43m,\u001b[49m\u001b[43m \u001b[49m\u001b[43moutfile\u001b[49m\u001b[43m)\u001b[49m\n",
      "\u001b[36mFile \u001b[39m\u001b[32m~\\AppData\\Roaming\\Python\\Python311\\site-packages\\pygments\\formatter.py:124\u001b[39m, in \u001b[36mFormatter.format\u001b[39m\u001b[34m(self, tokensource, outfile)\u001b[39m\n\u001b[32m    121\u001b[39m \u001b[38;5;28;01mif\u001b[39;00m \u001b[38;5;28mself\u001b[39m.encoding:\n\u001b[32m    122\u001b[39m     \u001b[38;5;66;03m# wrap the outfile in a StreamWriter\u001b[39;00m\n\u001b[32m    123\u001b[39m     outfile = codecs.lookup(\u001b[38;5;28mself\u001b[39m.encoding)[\u001b[32m3\u001b[39m](outfile)\n\u001b[32m--> \u001b[39m\u001b[32m124\u001b[39m \u001b[38;5;28;01mreturn\u001b[39;00m \u001b[38;5;28;43mself\u001b[39;49m\u001b[43m.\u001b[49m\u001b[43mformat_unencoded\u001b[49m\u001b[43m(\u001b[49m\u001b[43mtokensource\u001b[49m\u001b[43m,\u001b[49m\u001b[43m \u001b[49m\u001b[43moutfile\u001b[49m\u001b[43m)\u001b[49m\n",
      "\u001b[36mFile \u001b[39m\u001b[32m~\\AppData\\Roaming\\Python\\Python311\\site-packages\\pygments\\formatters\\terminal256.py:286\u001b[39m, in \u001b[36mTerminal256Formatter.format_unencoded\u001b[39m\u001b[34m(self, tokensource, outfile)\u001b[39m\n\u001b[32m    283\u001b[39m             \u001b[38;5;66;03m# outfile.write( '!' + str(ottype) + '->' + str(ttype) + '!' )\u001b[39;00m\n\u001b[32m    285\u001b[39m     \u001b[38;5;28;01mif\u001b[39;00m not_found:\n\u001b[32m--> \u001b[39m\u001b[32m286\u001b[39m         outfile.write(value)\n\u001b[32m    288\u001b[39m \u001b[38;5;28;01mif\u001b[39;00m \u001b[38;5;28mself\u001b[39m.linenos:\n\u001b[32m    289\u001b[39m     outfile.write(\u001b[33m\"\u001b[39m\u001b[38;5;130;01m\\n\u001b[39;00m\u001b[33m\"\u001b[39m)\n",
      "\u001b[31mTypeError\u001b[39m: string argument expected, got 'ExpatError'"
     ]
    },
    {
     "ename": "TypeError",
     "evalue": "string argument expected, got 'ExpatError'",
     "output_type": "error",
     "traceback": [
      "\u001b[31m---------------------------------------------------------------------------\u001b[39m",
      "\u001b[31mTypeError\u001b[39m                                 Traceback (most recent call last)",
      "\u001b[36mFile \u001b[39m\u001b[32m~\\AppData\\Roaming\\Python\\Python311\\site-packages\\IPython\\core\\async_helpers.py:128\u001b[39m, in \u001b[36m_pseudo_sync_runner\u001b[39m\u001b[34m(coro)\u001b[39m\n\u001b[32m    120\u001b[39m \u001b[38;5;250m\u001b[39m\u001b[33;03m\"\"\"\u001b[39;00m\n\u001b[32m    121\u001b[39m \u001b[33;03mA runner that does not really allow async execution, and just advance the coroutine.\u001b[39;00m\n\u001b[32m    122\u001b[39m \n\u001b[32m   (...)\u001b[39m\u001b[32m    125\u001b[39m \u001b[33;03mCredit to Nathaniel Smith\u001b[39;00m\n\u001b[32m    126\u001b[39m \u001b[33;03m\"\"\"\u001b[39;00m\n\u001b[32m    127\u001b[39m \u001b[38;5;28;01mtry\u001b[39;00m:\n\u001b[32m--> \u001b[39m\u001b[32m128\u001b[39m     coro.send(\u001b[38;5;28;01mNone\u001b[39;00m)\n\u001b[32m    129\u001b[39m \u001b[38;5;28;01mexcept\u001b[39;00m \u001b[38;5;167;01mStopIteration\u001b[39;00m \u001b[38;5;28;01mas\u001b[39;00m exc:\n\u001b[32m    130\u001b[39m     \u001b[38;5;28;01mreturn\u001b[39;00m exc.value\n",
      "\u001b[36mFile \u001b[39m\u001b[32m~\\AppData\\Roaming\\Python\\Python311\\site-packages\\IPython\\core\\interactiveshell.py:3384\u001b[39m, in \u001b[36mInteractiveShell.run_cell_async\u001b[39m\u001b[34m(self, raw_cell, store_history, silent, shell_futures, transformed_cell, preprocessing_exc_tuple, cell_id)\u001b[39m\n\u001b[32m   3380\u001b[39m exec_count = \u001b[38;5;28mself\u001b[39m.execution_count\n\u001b[32m   3381\u001b[39m \u001b[38;5;28;01mif\u001b[39;00m result.error_in_exec:\n\u001b[32m   3382\u001b[39m     \u001b[38;5;66;03m# Store formatted traceback and error details\u001b[39;00m\n\u001b[32m   3383\u001b[39m     \u001b[38;5;28mself\u001b[39m.history_manager.exceptions[exec_count] = (\n\u001b[32m-> \u001b[39m\u001b[32m3384\u001b[39m         \u001b[38;5;28;43mself\u001b[39;49m\u001b[43m.\u001b[49m\u001b[43m_format_exception_for_storage\u001b[49m\u001b[43m(\u001b[49m\u001b[43mresult\u001b[49m\u001b[43m.\u001b[49m\u001b[43merror_in_exec\u001b[49m\u001b[43m)\u001b[49m\n\u001b[32m   3385\u001b[39m     )\n\u001b[32m   3387\u001b[39m \u001b[38;5;66;03m# Each cell is a *single* input, regardless of how many lines it has\u001b[39;00m\n\u001b[32m   3388\u001b[39m \u001b[38;5;28mself\u001b[39m.execution_count += \u001b[32m1\u001b[39m\n",
      "\u001b[36mFile \u001b[39m\u001b[32m~\\AppData\\Roaming\\Python\\Python311\\site-packages\\IPython\\core\\interactiveshell.py:3413\u001b[39m, in \u001b[36mInteractiveShell._format_exception_for_storage\u001b[39m\u001b[34m(self, exception, filename, running_compiled_code)\u001b[39m\n\u001b[32m   3411\u001b[39m     \u001b[38;5;66;03m# Extract traceback if the error happened during compiled code execution\u001b[39;00m\n\u001b[32m   3412\u001b[39m     elist = traceback.extract_tb(tb) \u001b[38;5;28;01mif\u001b[39;00m running_compiled_code \u001b[38;5;28;01melse\u001b[39;00m []\n\u001b[32m-> \u001b[39m\u001b[32m3413\u001b[39m     stb = \u001b[38;5;28;43mself\u001b[39;49m\u001b[43m.\u001b[49m\u001b[43mSyntaxTB\u001b[49m\u001b[43m.\u001b[49m\u001b[43mstructured_traceback\u001b[49m\u001b[43m(\u001b[49m\u001b[43metype\u001b[49m\u001b[43m,\u001b[49m\u001b[43m \u001b[49m\u001b[43mevalue\u001b[49m\u001b[43m,\u001b[49m\u001b[43m \u001b[49m\u001b[43melist\u001b[49m\u001b[43m)\u001b[49m\n\u001b[32m   3415\u001b[39m \u001b[38;5;66;03m# Handle UsageError with a simple message\u001b[39;00m\n\u001b[32m   3416\u001b[39m \u001b[38;5;28;01melif\u001b[39;00m etype \u001b[38;5;129;01mis\u001b[39;00m UsageError:\n",
      "\u001b[36mFile \u001b[39m\u001b[32m~\\AppData\\Roaming\\Python\\Python311\\site-packages\\IPython\\core\\ultratb.py:1240\u001b[39m, in \u001b[36mSyntaxTB.structured_traceback\u001b[39m\u001b[34m(self, etype, evalue, etb, tb_offset, context)\u001b[39m\n\u001b[32m   1238\u001b[39m         value.text = newtext\n\u001b[32m   1239\u001b[39m \u001b[38;5;28mself\u001b[39m.last_syntax_error = value\n\u001b[32m-> \u001b[39m\u001b[32m1240\u001b[39m \u001b[38;5;28;01mreturn\u001b[39;00m \u001b[38;5;28;43msuper\u001b[39;49m\u001b[43m(\u001b[49m\u001b[43mSyntaxTB\u001b[49m\u001b[43m,\u001b[49m\u001b[43m \u001b[49m\u001b[38;5;28;43mself\u001b[39;49m\u001b[43m)\u001b[49m\u001b[43m.\u001b[49m\u001b[43mstructured_traceback\u001b[49m\u001b[43m(\u001b[49m\n\u001b[32m   1241\u001b[39m \u001b[43m    \u001b[49m\u001b[43metype\u001b[49m\u001b[43m,\u001b[49m\u001b[43m \u001b[49m\u001b[43mvalue\u001b[49m\u001b[43m,\u001b[49m\u001b[43m \u001b[49m\u001b[43metb\u001b[49m\u001b[43m,\u001b[49m\u001b[43m \u001b[49m\u001b[43mtb_offset\u001b[49m\u001b[43m=\u001b[49m\u001b[43mtb_offset\u001b[49m\u001b[43m,\u001b[49m\u001b[43m \u001b[49m\u001b[43mcontext\u001b[49m\u001b[43m=\u001b[49m\u001b[43mcontext\u001b[49m\n\u001b[32m   1242\u001b[39m \u001b[43m\u001b[49m\u001b[43m)\u001b[49m\n",
      "\u001b[36mFile \u001b[39m\u001b[32m~\\AppData\\Roaming\\Python\\Python311\\site-packages\\IPython\\core\\ultratb.py:212\u001b[39m, in \u001b[36mListTB.structured_traceback\u001b[39m\u001b[34m(self, etype, evalue, etb, tb_offset, context)\u001b[39m\n\u001b[32m    210\u001b[39m     out_list.extend(\u001b[38;5;28mself\u001b[39m._format_list(elist))\n\u001b[32m    211\u001b[39m \u001b[38;5;66;03m# The exception info should be a single entry in the list.\u001b[39;00m\n\u001b[32m--> \u001b[39m\u001b[32m212\u001b[39m lines = \u001b[33m\"\u001b[39m\u001b[33m\"\u001b[39m.join(\u001b[38;5;28;43mself\u001b[39;49m\u001b[43m.\u001b[49m\u001b[43m_format_exception_only\u001b[49m\u001b[43m(\u001b[49m\u001b[43metype\u001b[49m\u001b[43m,\u001b[49m\u001b[43m \u001b[49m\u001b[43mevalue\u001b[49m\u001b[43m)\u001b[49m)\n\u001b[32m    213\u001b[39m out_list.append(lines)\n\u001b[32m    215\u001b[39m \u001b[38;5;66;03m# Find chained exceptions if we have a traceback (not for exception-only mode)\u001b[39;00m\n",
      "\u001b[36mFile \u001b[39m\u001b[32m~\\AppData\\Roaming\\Python\\Python311\\site-packages\\IPython\\core\\ultratb.py:374\u001b[39m, in \u001b[36mListTB._format_exception_only\u001b[39m\u001b[34m(self, etype, value)\u001b[39m\n\u001b[32m    371\u001b[39m     s = \u001b[38;5;28mself\u001b[39m._some_str(value)\n\u001b[32m    372\u001b[39m \u001b[38;5;28;01mif\u001b[39;00m s:\n\u001b[32m    373\u001b[39m     output_list.append(\n\u001b[32m--> \u001b[39m\u001b[32m374\u001b[39m         \u001b[43mtheme_table\u001b[49m\u001b[43m[\u001b[49m\u001b[38;5;28;43mself\u001b[39;49m\u001b[43m.\u001b[49m\u001b[43m_theme_name\u001b[49m\u001b[43m]\u001b[49m\u001b[43m.\u001b[49m\u001b[43mformat\u001b[49m\u001b[43m(\u001b[49m\n\u001b[32m    375\u001b[39m \u001b[43m            \u001b[49m\u001b[43mstype_tokens\u001b[49m\n\u001b[32m    376\u001b[39m \u001b[43m            \u001b[49m\u001b[43m+\u001b[49m\u001b[43m \u001b[49m\u001b[43m[\u001b[49m\n\u001b[32m    377\u001b[39m \u001b[43m                \u001b[49m\u001b[43m(\u001b[49m\u001b[43mToken\u001b[49m\u001b[43m.\u001b[49m\u001b[43mExcName\u001b[49m\u001b[43m,\u001b[49m\u001b[43m \u001b[49m\u001b[33;43m\"\u001b[39;49m\u001b[33;43m:\u001b[39;49m\u001b[33;43m\"\u001b[39;49m\u001b[43m)\u001b[49m\u001b[43m,\u001b[49m\n\u001b[32m    378\u001b[39m \u001b[43m                \u001b[49m\u001b[43m(\u001b[49m\u001b[43mToken\u001b[49m\u001b[43m,\u001b[49m\u001b[43m \u001b[49m\u001b[33;43m\"\u001b[39;49m\u001b[33;43m \u001b[39;49m\u001b[33;43m\"\u001b[39;49m\u001b[43m)\u001b[49m\u001b[43m,\u001b[49m\n\u001b[32m    379\u001b[39m \u001b[43m                \u001b[49m\u001b[43m(\u001b[49m\u001b[43mToken\u001b[49m\u001b[43m,\u001b[49m\u001b[43m \u001b[49m\u001b[43ms\u001b[49m\u001b[43m)\u001b[49m\u001b[43m,\u001b[49m\n\u001b[32m    380\u001b[39m \u001b[43m                \u001b[49m\u001b[43m(\u001b[49m\u001b[43mToken\u001b[49m\u001b[43m,\u001b[49m\u001b[43m \u001b[49m\u001b[33;43m\"\u001b[39;49m\u001b[38;5;130;43;01m\\n\u001b[39;49;00m\u001b[33;43m\"\u001b[39;49m\u001b[43m)\u001b[49m\u001b[43m,\u001b[49m\n\u001b[32m    381\u001b[39m \u001b[43m            \u001b[49m\u001b[43m]\u001b[49m\n\u001b[32m    382\u001b[39m \u001b[43m        \u001b[49m\u001b[43m)\u001b[49m\n\u001b[32m    383\u001b[39m     )\n\u001b[32m    384\u001b[39m \u001b[38;5;28;01melse\u001b[39;00m:\n\u001b[32m    385\u001b[39m     output_list.append(\u001b[33m\"\u001b[39m\u001b[38;5;132;01m%s\u001b[39;00m\u001b[38;5;130;01m\\n\u001b[39;00m\u001b[33m\"\u001b[39m % stype)\n",
      "\u001b[36mFile \u001b[39m\u001b[32m~\\AppData\\Roaming\\Python\\Python311\\site-packages\\IPython\\utils\\PyColorize.py:66\u001b[39m, in \u001b[36mTheme.format\u001b[39m\u001b[34m(self, stream)\u001b[39m\n\u001b[32m     64\u001b[39m \u001b[38;5;28;01mdef\u001b[39;00m\u001b[38;5;250m \u001b[39m\u001b[34mformat\u001b[39m(\u001b[38;5;28mself\u001b[39m, stream: TokenStream) -> \u001b[38;5;28mstr\u001b[39m:\n\u001b[32m---> \u001b[39m\u001b[32m66\u001b[39m     \u001b[38;5;28;01mreturn\u001b[39;00m \u001b[43mpygments\u001b[49m\u001b[43m.\u001b[49m\u001b[43mformat\u001b[49m\u001b[43m(\u001b[49m\u001b[43mstream\u001b[49m\u001b[43m,\u001b[49m\u001b[43m \u001b[49m\u001b[38;5;28;43mself\u001b[39;49m\u001b[43m.\u001b[49m\u001b[43m_formatter\u001b[49m\u001b[43m)\u001b[49m\n",
      "\u001b[36mFile \u001b[39m\u001b[32m~\\AppData\\Roaming\\Python\\Python311\\site-packages\\pygments\\__init__.py:64\u001b[39m, in \u001b[36mformat\u001b[39m\u001b[34m(tokens, formatter, outfile)\u001b[39m\n\u001b[32m     62\u001b[39m \u001b[38;5;28;01mif\u001b[39;00m \u001b[38;5;129;01mnot\u001b[39;00m outfile:\n\u001b[32m     63\u001b[39m     realoutfile = \u001b[38;5;28mgetattr\u001b[39m(formatter, \u001b[33m'\u001b[39m\u001b[33mencoding\u001b[39m\u001b[33m'\u001b[39m, \u001b[38;5;28;01mNone\u001b[39;00m) \u001b[38;5;129;01mand\u001b[39;00m BytesIO() \u001b[38;5;129;01mor\u001b[39;00m StringIO()\n\u001b[32m---> \u001b[39m\u001b[32m64\u001b[39m     \u001b[43mformatter\u001b[49m\u001b[43m.\u001b[49m\u001b[43mformat\u001b[49m\u001b[43m(\u001b[49m\u001b[43mtokens\u001b[49m\u001b[43m,\u001b[49m\u001b[43m \u001b[49m\u001b[43mrealoutfile\u001b[49m\u001b[43m)\u001b[49m\n\u001b[32m     65\u001b[39m     \u001b[38;5;28;01mreturn\u001b[39;00m realoutfile.getvalue()\n\u001b[32m     66\u001b[39m \u001b[38;5;28;01melse\u001b[39;00m:\n",
      "\u001b[36mFile \u001b[39m\u001b[32m~\\AppData\\Roaming\\Python\\Python311\\site-packages\\pygments\\formatters\\terminal256.py:250\u001b[39m, in \u001b[36mTerminal256Formatter.format\u001b[39m\u001b[34m(self, tokensource, outfile)\u001b[39m\n\u001b[32m    249\u001b[39m \u001b[38;5;28;01mdef\u001b[39;00m\u001b[38;5;250m \u001b[39m\u001b[34mformat\u001b[39m(\u001b[38;5;28mself\u001b[39m, tokensource, outfile):\n\u001b[32m--> \u001b[39m\u001b[32m250\u001b[39m     \u001b[38;5;28;01mreturn\u001b[39;00m \u001b[43mFormatter\u001b[49m\u001b[43m.\u001b[49m\u001b[43mformat\u001b[49m\u001b[43m(\u001b[49m\u001b[38;5;28;43mself\u001b[39;49m\u001b[43m,\u001b[49m\u001b[43m \u001b[49m\u001b[43mtokensource\u001b[49m\u001b[43m,\u001b[49m\u001b[43m \u001b[49m\u001b[43moutfile\u001b[49m\u001b[43m)\u001b[49m\n",
      "\u001b[36mFile \u001b[39m\u001b[32m~\\AppData\\Roaming\\Python\\Python311\\site-packages\\pygments\\formatter.py:124\u001b[39m, in \u001b[36mFormatter.format\u001b[39m\u001b[34m(self, tokensource, outfile)\u001b[39m\n\u001b[32m    121\u001b[39m \u001b[38;5;28;01mif\u001b[39;00m \u001b[38;5;28mself\u001b[39m.encoding:\n\u001b[32m    122\u001b[39m     \u001b[38;5;66;03m# wrap the outfile in a StreamWriter\u001b[39;00m\n\u001b[32m    123\u001b[39m     outfile = codecs.lookup(\u001b[38;5;28mself\u001b[39m.encoding)[\u001b[32m3\u001b[39m](outfile)\n\u001b[32m--> \u001b[39m\u001b[32m124\u001b[39m \u001b[38;5;28;01mreturn\u001b[39;00m \u001b[38;5;28;43mself\u001b[39;49m\u001b[43m.\u001b[49m\u001b[43mformat_unencoded\u001b[49m\u001b[43m(\u001b[49m\u001b[43mtokensource\u001b[49m\u001b[43m,\u001b[49m\u001b[43m \u001b[49m\u001b[43moutfile\u001b[49m\u001b[43m)\u001b[49m\n",
      "\u001b[36mFile \u001b[39m\u001b[32m~\\AppData\\Roaming\\Python\\Python311\\site-packages\\pygments\\formatters\\terminal256.py:286\u001b[39m, in \u001b[36mTerminal256Formatter.format_unencoded\u001b[39m\u001b[34m(self, tokensource, outfile)\u001b[39m\n\u001b[32m    283\u001b[39m             \u001b[38;5;66;03m# outfile.write( '!' + str(ottype) + '->' + str(ttype) + '!' )\u001b[39;00m\n\u001b[32m    285\u001b[39m     \u001b[38;5;28;01mif\u001b[39;00m not_found:\n\u001b[32m--> \u001b[39m\u001b[32m286\u001b[39m         outfile.write(value)\n\u001b[32m    288\u001b[39m \u001b[38;5;28;01mif\u001b[39;00m \u001b[38;5;28mself\u001b[39m.linenos:\n\u001b[32m    289\u001b[39m     outfile.write(\u001b[33m\"\u001b[39m\u001b[38;5;130;01m\\n\u001b[39;00m\u001b[33m\"\u001b[39m)\n",
      "\u001b[31mTypeError\u001b[39m: string argument expected, got 'ExpatError'"
     ]
    }
   ],
   "source": [
    "transcript_list = YouTubeTranscriptApi.list_transcripts('5zA6OFpkPe0')\n",
    "for i in transcript_list:\n",
    "    i.translate('en').fetch()\n",
    "    "
   ]
  },
  {
   "cell_type": "code",
   "execution_count": 30,
   "metadata": {},
   "outputs": [
    {
     "ename": "NoTranscriptFound",
     "evalue": "\nCould not retrieve a transcript for the video https://www.youtube.com/watch?v=5zA6OFpkPe0! This is most likely caused by:\n\nNo transcripts were found for any of the requested language codes: ('en',)\n\nFor this video (5zA6OFpkPe0) transcripts are available in the following languages:\n\n(MANUALLY CREATED)\nNone\n\n(GENERATED)\n - hi (\"Hindi (auto-generated)\")[TRANSLATABLE]\n\n(TRANSLATION LANGUAGES)\n - ab (\"Abkhazian\")\n - aa (\"Afar\")\n - af (\"Afrikaans\")\n - ak (\"Akan\")\n - sq (\"Albanian\")\n - am (\"Amharic\")\n - ar (\"Arabic\")\n - hy (\"Armenian\")\n - as (\"Assamese\")\n - ay (\"Aymara\")\n - az (\"Azerbaijani\")\n - bn (\"Bangla\")\n - ba (\"Bashkir\")\n - eu (\"Basque\")\n - be (\"Belarusian\")\n - bho (\"Bhojpuri\")\n - bs (\"Bosnian\")\n - br (\"Breton\")\n - bg (\"Bulgarian\")\n - my (\"Burmese\")\n - ca (\"Catalan\")\n - ceb (\"Cebuano\")\n - zh-Hans (\"Chinese (Simplified)\")\n - zh-Hant (\"Chinese (Traditional)\")\n - co (\"Corsican\")\n - hr (\"Croatian\")\n - cs (\"Czech\")\n - da (\"Danish\")\n - dv (\"Divehi\")\n - nl (\"Dutch\")\n - dz (\"Dzongkha\")\n - en (\"English\")\n - eo (\"Esperanto\")\n - et (\"Estonian\")\n - ee (\"Ewe\")\n - fo (\"Faroese\")\n - fj (\"Fijian\")\n - fil (\"Filipino\")\n - fi (\"Finnish\")\n - fr (\"French\")\n - gaa (\"Ga\")\n - gl (\"Galician\")\n - lg (\"Ganda\")\n - ka (\"Georgian\")\n - de (\"German\")\n - el (\"Greek\")\n - gn (\"Guarani\")\n - gu (\"Gujarati\")\n - ht (\"Haitian Creole\")\n - ha (\"Hausa\")\n - haw (\"Hawaiian\")\n - iw (\"Hebrew\")\n - hi (\"Hindi\")\n - hmn (\"Hmong\")\n - hu (\"Hungarian\")\n - is (\"Icelandic\")\n - ig (\"Igbo\")\n - id (\"Indonesian\")\n - iu (\"Inuktitut\")\n - ga (\"Irish\")\n - it (\"Italian\")\n - ja (\"Japanese\")\n - jv (\"Javanese\")\n - kl (\"Kalaallisut\")\n - kn (\"Kannada\")\n - kk (\"Kazakh\")\n - kha (\"Khasi\")\n - km (\"Khmer\")\n - rw (\"Kinyarwanda\")\n - ko (\"Korean\")\n - kri (\"Krio\")\n - ku (\"Kurdish\")\n - ky (\"Kyrgyz\")\n - lo (\"Lao\")\n - la (\"Latin\")\n - lv (\"Latvian\")\n - ln (\"Lingala\")\n - lt (\"Lithuanian\")\n - lua (\"Luba-Lulua\")\n - luo (\"Luo\")\n - lb (\"Luxembourgish\")\n - mk (\"Macedonian\")\n - mg (\"Malagasy\")\n - ms (\"Malay\")\n - ml (\"Malayalam\")\n - mt (\"Maltese\")\n - gv (\"Manx\")\n - mi (\"Māori\")\n - mr (\"Marathi\")\n - mn (\"Mongolian\")\n - mfe (\"Morisyen\")\n - ne (\"Nepali\")\n - new (\"Newari\")\n - nso (\"Northern Sotho\")\n - no (\"Norwegian\")\n - ny (\"Nyanja\")\n - oc (\"Occitan\")\n - or (\"Odia\")\n - om (\"Oromo\")\n - os (\"Ossetic\")\n - pam (\"Pampanga\")\n - ps (\"Pashto\")\n - fa (\"Persian\")\n - pl (\"Polish\")\n - pt (\"Portuguese\")\n - pt-PT (\"Portuguese (Portugal)\")\n - pa (\"Punjabi\")\n - qu (\"Quechua\")\n - ro (\"Romanian\")\n - rn (\"Rundi\")\n - ru (\"Russian\")\n - sm (\"Samoan\")\n - sg (\"Sango\")\n - sa (\"Sanskrit\")\n - gd (\"Scottish Gaelic\")\n - sr (\"Serbian\")\n - crs (\"Seselwa Creole French\")\n - sn (\"Shona\")\n - sd (\"Sindhi\")\n - si (\"Sinhala\")\n - sk (\"Slovak\")\n - sl (\"Slovenian\")\n - so (\"Somali\")\n - st (\"Southern Sotho\")\n - es (\"Spanish\")\n - su (\"Sundanese\")\n - sw (\"Swahili\")\n - ss (\"Swati\")\n - sv (\"Swedish\")\n - tg (\"Tajik\")\n - ta (\"Tamil\")\n - tt (\"Tatar\")\n - te (\"Telugu\")\n - th (\"Thai\")\n - bo (\"Tibetan\")\n - ti (\"Tigrinya\")\n - to (\"Tongan\")\n - ts (\"Tsonga\")\n - tn (\"Tswana\")\n - tum (\"Tumbuka\")\n - tr (\"Turkish\")\n - tk (\"Turkmen\")\n - uk (\"Ukrainian\")\n - ur (\"Urdu\")\n - ug (\"Uyghur\")\n - uz (\"Uzbek\")\n - ve (\"Venda\")\n - vi (\"Vietnamese\")\n - war (\"Waray\")\n - cy (\"Welsh\")\n - fy (\"Western Frisian\")\n - wo (\"Wolof\")\n - xh (\"Xhosa\")\n - yi (\"Yiddish\")\n - yo (\"Yoruba\")\n - zu (\"Zulu\")\n\nIf you are sure that the described cause is not responsible for this error and that a transcript should be retrievable, please create an issue at https://github.com/jdepoix/youtube-transcript-api/issues. Please add which version of youtube_transcript_api you are using and provide the information needed to replicate the error. Also make sure that there are no open issues which already describe your problem!",
     "output_type": "error",
     "traceback": [
      "\u001b[31m---------------------------------------------------------------------------\u001b[39m",
      "\u001b[31mNoTranscriptFound\u001b[39m                         Traceback (most recent call last)",
      "\u001b[36mCell\u001b[39m\u001b[36m \u001b[39m\u001b[32mIn[30]\u001b[39m\u001b[32m, line 1\u001b[39m\n\u001b[32m----> \u001b[39m\u001b[32m1\u001b[39m transcript_list = \u001b[43mYouTubeTranscriptApi\u001b[49m\u001b[43m.\u001b[49m\u001b[43mget_transcript\u001b[49m\u001b[43m(\u001b[49m\u001b[33;43m'\u001b[39;49m\u001b[33;43m5zA6OFpkPe0\u001b[39;49m\u001b[33;43m'\u001b[39;49m\u001b[43m)\u001b[49m\n\u001b[32m      2\u001b[39m \u001b[38;5;28;01mfor\u001b[39;00m i \u001b[38;5;129;01min\u001b[39;00m transcript_list:\n\u001b[32m      3\u001b[39m     \u001b[38;5;28mprint\u001b[39m(i)\n",
      "\u001b[36mFile \u001b[39m\u001b[32mc:\\Users\\Jatin Arora\\AppData\\Local\\Programs\\Python\\Python311\\Lib\\site-packages\\youtube_transcript_api\\_api.py:307\u001b[39m, in \u001b[36mYouTubeTranscriptApi.get_transcript\u001b[39m\u001b[34m(cls, video_id, languages, proxies, cookies, preserve_formatting)\u001b[39m\n\u001b[32m    298\u001b[39m warnings.warn(\n\u001b[32m    299\u001b[39m     \u001b[33m\"\u001b[39m\u001b[33m`get_transcript` is deprecated and will be removed in a future version. \u001b[39m\u001b[33m\"\u001b[39m\n\u001b[32m    300\u001b[39m     \u001b[33m\"\u001b[39m\u001b[33mUse the `fetch` method instead!\u001b[39m\u001b[33m\"\u001b[39m,\n\u001b[32m    301\u001b[39m     \u001b[38;5;167;01mDeprecationWarning\u001b[39;00m,\n\u001b[32m    302\u001b[39m )\n\u001b[32m    304\u001b[39m \u001b[38;5;28;01massert\u001b[39;00m \u001b[38;5;28misinstance\u001b[39m(video_id, \u001b[38;5;28mstr\u001b[39m), \u001b[33m\"\u001b[39m\u001b[33m`video_id` must be a string\u001b[39m\u001b[33m\"\u001b[39m\n\u001b[32m    305\u001b[39m \u001b[38;5;28;01mreturn\u001b[39;00m (\n\u001b[32m    306\u001b[39m     \u001b[38;5;28;43mcls\u001b[39;49m\u001b[43m.\u001b[49m\u001b[43mlist_transcripts\u001b[49m\u001b[43m(\u001b[49m\u001b[43mvideo_id\u001b[49m\u001b[43m,\u001b[49m\u001b[43m \u001b[49m\u001b[43mproxies\u001b[49m\u001b[43m,\u001b[49m\u001b[43m \u001b[49m\u001b[43mcookies\u001b[49m\u001b[43m)\u001b[49m\n\u001b[32m--> \u001b[39m\u001b[32m307\u001b[39m \u001b[43m    \u001b[49m\u001b[43m.\u001b[49m\u001b[43mfind_transcript\u001b[49m\u001b[43m(\u001b[49m\u001b[43mlanguages\u001b[49m\u001b[43m)\u001b[49m\n\u001b[32m    308\u001b[39m     .fetch(preserve_formatting=preserve_formatting)\n\u001b[32m    309\u001b[39m     .to_raw_data()\n\u001b[32m    310\u001b[39m )\n",
      "\u001b[36mFile \u001b[39m\u001b[32mc:\\Users\\Jatin Arora\\AppData\\Local\\Programs\\Python\\Python311\\Lib\\site-packages\\youtube_transcript_api\\_transcripts.py:265\u001b[39m, in \u001b[36mTranscriptList.find_transcript\u001b[39m\u001b[34m(self, language_codes)\u001b[39m\n\u001b[32m    254\u001b[39m \u001b[38;5;28;01mdef\u001b[39;00m\u001b[38;5;250m \u001b[39m\u001b[34mfind_transcript\u001b[39m(\u001b[38;5;28mself\u001b[39m, language_codes: Iterable[\u001b[38;5;28mstr\u001b[39m]) -> Transcript:\n\u001b[32m    255\u001b[39m \u001b[38;5;250m    \u001b[39m\u001b[33;03m\"\"\"\u001b[39;00m\n\u001b[32m    256\u001b[39m \u001b[33;03m    Finds a transcript for a given language code. Manually created transcripts are returned first and only if none\u001b[39;00m\n\u001b[32m    257\u001b[39m \u001b[33;03m    are found, generated transcripts are used. If you only want generated transcripts use\u001b[39;00m\n\u001b[32m   (...)\u001b[39m\u001b[32m    263\u001b[39m \u001b[33;03m    :return: the found Transcript\u001b[39;00m\n\u001b[32m    264\u001b[39m \u001b[33;03m    \"\"\"\u001b[39;00m\n\u001b[32m--> \u001b[39m\u001b[32m265\u001b[39m     \u001b[38;5;28;01mreturn\u001b[39;00m \u001b[38;5;28;43mself\u001b[39;49m\u001b[43m.\u001b[49m\u001b[43m_find_transcript\u001b[49m\u001b[43m(\u001b[49m\n\u001b[32m    266\u001b[39m \u001b[43m        \u001b[49m\u001b[43mlanguage_codes\u001b[49m\u001b[43m,\u001b[49m\n\u001b[32m    267\u001b[39m \u001b[43m        \u001b[49m\u001b[43m[\u001b[49m\u001b[38;5;28;43mself\u001b[39;49m\u001b[43m.\u001b[49m\u001b[43m_manually_created_transcripts\u001b[49m\u001b[43m,\u001b[49m\u001b[43m \u001b[49m\u001b[38;5;28;43mself\u001b[39;49m\u001b[43m.\u001b[49m\u001b[43m_generated_transcripts\u001b[49m\u001b[43m]\u001b[49m\u001b[43m,\u001b[49m\n\u001b[32m    268\u001b[39m \u001b[43m    \u001b[49m\u001b[43m)\u001b[49m\n",
      "\u001b[36mFile \u001b[39m\u001b[32mc:\\Users\\Jatin Arora\\AppData\\Local\\Programs\\Python\\Python311\\Lib\\site-packages\\youtube_transcript_api\\_transcripts.py:306\u001b[39m, in \u001b[36mTranscriptList._find_transcript\u001b[39m\u001b[34m(self, language_codes, transcript_dicts)\u001b[39m\n\u001b[32m    303\u001b[39m         \u001b[38;5;28;01mif\u001b[39;00m language_code \u001b[38;5;129;01min\u001b[39;00m transcript_dict:\n\u001b[32m    304\u001b[39m             \u001b[38;5;28;01mreturn\u001b[39;00m transcript_dict[language_code]\n\u001b[32m--> \u001b[39m\u001b[32m306\u001b[39m \u001b[38;5;28;01mraise\u001b[39;00m NoTranscriptFound(\u001b[38;5;28mself\u001b[39m.video_id, language_codes, \u001b[38;5;28mself\u001b[39m)\n",
      "\u001b[31mNoTranscriptFound\u001b[39m: \nCould not retrieve a transcript for the video https://www.youtube.com/watch?v=5zA6OFpkPe0! This is most likely caused by:\n\nNo transcripts were found for any of the requested language codes: ('en',)\n\nFor this video (5zA6OFpkPe0) transcripts are available in the following languages:\n\n(MANUALLY CREATED)\nNone\n\n(GENERATED)\n - hi (\"Hindi (auto-generated)\")[TRANSLATABLE]\n\n(TRANSLATION LANGUAGES)\n - ab (\"Abkhazian\")\n - aa (\"Afar\")\n - af (\"Afrikaans\")\n - ak (\"Akan\")\n - sq (\"Albanian\")\n - am (\"Amharic\")\n - ar (\"Arabic\")\n - hy (\"Armenian\")\n - as (\"Assamese\")\n - ay (\"Aymara\")\n - az (\"Azerbaijani\")\n - bn (\"Bangla\")\n - ba (\"Bashkir\")\n - eu (\"Basque\")\n - be (\"Belarusian\")\n - bho (\"Bhojpuri\")\n - bs (\"Bosnian\")\n - br (\"Breton\")\n - bg (\"Bulgarian\")\n - my (\"Burmese\")\n - ca (\"Catalan\")\n - ceb (\"Cebuano\")\n - zh-Hans (\"Chinese (Simplified)\")\n - zh-Hant (\"Chinese (Traditional)\")\n - co (\"Corsican\")\n - hr (\"Croatian\")\n - cs (\"Czech\")\n - da (\"Danish\")\n - dv (\"Divehi\")\n - nl (\"Dutch\")\n - dz (\"Dzongkha\")\n - en (\"English\")\n - eo (\"Esperanto\")\n - et (\"Estonian\")\n - ee (\"Ewe\")\n - fo (\"Faroese\")\n - fj (\"Fijian\")\n - fil (\"Filipino\")\n - fi (\"Finnish\")\n - fr (\"French\")\n - gaa (\"Ga\")\n - gl (\"Galician\")\n - lg (\"Ganda\")\n - ka (\"Georgian\")\n - de (\"German\")\n - el (\"Greek\")\n - gn (\"Guarani\")\n - gu (\"Gujarati\")\n - ht (\"Haitian Creole\")\n - ha (\"Hausa\")\n - haw (\"Hawaiian\")\n - iw (\"Hebrew\")\n - hi (\"Hindi\")\n - hmn (\"Hmong\")\n - hu (\"Hungarian\")\n - is (\"Icelandic\")\n - ig (\"Igbo\")\n - id (\"Indonesian\")\n - iu (\"Inuktitut\")\n - ga (\"Irish\")\n - it (\"Italian\")\n - ja (\"Japanese\")\n - jv (\"Javanese\")\n - kl (\"Kalaallisut\")\n - kn (\"Kannada\")\n - kk (\"Kazakh\")\n - kha (\"Khasi\")\n - km (\"Khmer\")\n - rw (\"Kinyarwanda\")\n - ko (\"Korean\")\n - kri (\"Krio\")\n - ku (\"Kurdish\")\n - ky (\"Kyrgyz\")\n - lo (\"Lao\")\n - la (\"Latin\")\n - lv (\"Latvian\")\n - ln (\"Lingala\")\n - lt (\"Lithuanian\")\n - lua (\"Luba-Lulua\")\n - luo (\"Luo\")\n - lb (\"Luxembourgish\")\n - mk (\"Macedonian\")\n - mg (\"Malagasy\")\n - ms (\"Malay\")\n - ml (\"Malayalam\")\n - mt (\"Maltese\")\n - gv (\"Manx\")\n - mi (\"Māori\")\n - mr (\"Marathi\")\n - mn (\"Mongolian\")\n - mfe (\"Morisyen\")\n - ne (\"Nepali\")\n - new (\"Newari\")\n - nso (\"Northern Sotho\")\n - no (\"Norwegian\")\n - ny (\"Nyanja\")\n - oc (\"Occitan\")\n - or (\"Odia\")\n - om (\"Oromo\")\n - os (\"Ossetic\")\n - pam (\"Pampanga\")\n - ps (\"Pashto\")\n - fa (\"Persian\")\n - pl (\"Polish\")\n - pt (\"Portuguese\")\n - pt-PT (\"Portuguese (Portugal)\")\n - pa (\"Punjabi\")\n - qu (\"Quechua\")\n - ro (\"Romanian\")\n - rn (\"Rundi\")\n - ru (\"Russian\")\n - sm (\"Samoan\")\n - sg (\"Sango\")\n - sa (\"Sanskrit\")\n - gd (\"Scottish Gaelic\")\n - sr (\"Serbian\")\n - crs (\"Seselwa Creole French\")\n - sn (\"Shona\")\n - sd (\"Sindhi\")\n - si (\"Sinhala\")\n - sk (\"Slovak\")\n - sl (\"Slovenian\")\n - so (\"Somali\")\n - st (\"Southern Sotho\")\n - es (\"Spanish\")\n - su (\"Sundanese\")\n - sw (\"Swahili\")\n - ss (\"Swati\")\n - sv (\"Swedish\")\n - tg (\"Tajik\")\n - ta (\"Tamil\")\n - tt (\"Tatar\")\n - te (\"Telugu\")\n - th (\"Thai\")\n - bo (\"Tibetan\")\n - ti (\"Tigrinya\")\n - to (\"Tongan\")\n - ts (\"Tsonga\")\n - tn (\"Tswana\")\n - tum (\"Tumbuka\")\n - tr (\"Turkish\")\n - tk (\"Turkmen\")\n - uk (\"Ukrainian\")\n - ur (\"Urdu\")\n - ug (\"Uyghur\")\n - uz (\"Uzbek\")\n - ve (\"Venda\")\n - vi (\"Vietnamese\")\n - war (\"Waray\")\n - cy (\"Welsh\")\n - fy (\"Western Frisian\")\n - wo (\"Wolof\")\n - xh (\"Xhosa\")\n - yi (\"Yiddish\")\n - yo (\"Yoruba\")\n - zu (\"Zulu\")\n\nIf you are sure that the described cause is not responsible for this error and that a transcript should be retrievable, please create an issue at https://github.com/jdepoix/youtube-transcript-api/issues. Please add which version of youtube_transcript_api you are using and provide the information needed to replicate the error. Also make sure that there are no open issues which already describe your problem!"
     ]
    }
   ],
   "source": [
    "transcript_list = YouTubeTranscriptApi.get_transcript('5zA6OFpkPe0')\n",
    "for i in transcript_list:\n",
    "    print(i)\n",
    "    "
   ]
  },
  {
   "cell_type": "code",
   "execution_count": 23,
   "metadata": {},
   "outputs": [
    {
     "name": "stdout",
     "output_type": "stream",
     "text": [
      "True\n"
     ]
    },
    {
     "name": "stdout",
     "output_type": "stream",
     "text": [
      "ERROR! Session/line number was not unique in database. History logging moved to new session 77\n"
     ]
    }
   ],
   "source": [
    "for i in transcript_list:\n",
    "    print(i.is_translatable)\n",
    "    i.translate('en')\n"
   ]
  },
  {
   "cell_type": "code",
   "execution_count": 26,
   "metadata": {},
   "outputs": [
    {
     "name": "stdout",
     "output_type": "stream",
     "text": [
      "ERROR! Session/line number was not unique in database. History logging moved to new session 78\n",
      "True\n"
     ]
    },
    {
     "ename": "TypeError",
     "evalue": "'Transcript' object is not subscriptable",
     "output_type": "error",
     "traceback": [
      "\u001b[31m---------------------------------------------------------------------------\u001b[39m",
      "\u001b[31mTypeError\u001b[39m                                 Traceback (most recent call last)",
      "\u001b[36mCell\u001b[39m\u001b[36m \u001b[39m\u001b[32mIn[26]\u001b[39m\u001b[32m, line 5\u001b[39m\n\u001b[32m      3\u001b[39m \u001b[38;5;28mprint\u001b[39m(i.is_translatable)\n\u001b[32m      4\u001b[39m k = i.translate(\u001b[33m'\u001b[39m\u001b[33men\u001b[39m\u001b[33m'\u001b[39m)\n\u001b[32m----> \u001b[39m\u001b[32m5\u001b[39m \u001b[43mk\u001b[49m\u001b[43m[\u001b[49m\u001b[33;43m'\u001b[39;49m\u001b[33;43mtext\u001b[39;49m\u001b[33;43m'\u001b[39;49m\u001b[43m]\u001b[49m\n",
      "\u001b[31mTypeError\u001b[39m: 'Transcript' object is not subscriptable"
     ]
    }
   ],
   "source": [
    "transcript_list = YouTubeTranscriptApi().list('rm_j6O8y148')\n",
    "for i in transcript_list:\n",
    "    print(i.is_translatable)\n",
    "    k = i.translate('en')\n",
    "    k['text']"
   ]
  },
  {
   "cell_type": "code",
   "execution_count": 27,
   "metadata": {},
   "outputs": [
    {
     "name": "stdout",
     "output_type": "stream",
     "text": [
      "ERROR! Session/line number was not unique in database. History logging moved to new session 79\n"
     ]
    },
    {
     "ename": "NoTranscriptFound",
     "evalue": "\nCould not retrieve a transcript for the video https://www.youtube.com/watch?v=rm_j6O8y148! This is most likely caused by:\n\nNo transcripts were found for any of the requested language codes: ('en',)\n\nFor this video (rm_j6O8y148) transcripts are available in the following languages:\n\n(MANUALLY CREATED)\nNone\n\n(GENERATED)\n - hi (\"Hindi (auto-generated)\")[TRANSLATABLE]\n\n(TRANSLATION LANGUAGES)\n - ab (\"Abkhazian\")\n - aa (\"Afar\")\n - af (\"Afrikaans\")\n - ak (\"Akan\")\n - sq (\"Albanian\")\n - am (\"Amharic\")\n - ar (\"Arabic\")\n - hy (\"Armenian\")\n - as (\"Assamese\")\n - ay (\"Aymara\")\n - az (\"Azerbaijani\")\n - bn (\"Bangla\")\n - ba (\"Bashkir\")\n - eu (\"Basque\")\n - be (\"Belarusian\")\n - bho (\"Bhojpuri\")\n - bs (\"Bosnian\")\n - br (\"Breton\")\n - bg (\"Bulgarian\")\n - my (\"Burmese\")\n - ca (\"Catalan\")\n - ceb (\"Cebuano\")\n - zh-Hans (\"Chinese (Simplified)\")\n - zh-Hant (\"Chinese (Traditional)\")\n - co (\"Corsican\")\n - hr (\"Croatian\")\n - cs (\"Czech\")\n - da (\"Danish\")\n - dv (\"Divehi\")\n - nl (\"Dutch\")\n - dz (\"Dzongkha\")\n - en (\"English\")\n - eo (\"Esperanto\")\n - et (\"Estonian\")\n - ee (\"Ewe\")\n - fo (\"Faroese\")\n - fj (\"Fijian\")\n - fil (\"Filipino\")\n - fi (\"Finnish\")\n - fr (\"French\")\n - gaa (\"Ga\")\n - gl (\"Galician\")\n - lg (\"Ganda\")\n - ka (\"Georgian\")\n - de (\"German\")\n - el (\"Greek\")\n - gn (\"Guarani\")\n - gu (\"Gujarati\")\n - ht (\"Haitian Creole\")\n - ha (\"Hausa\")\n - haw (\"Hawaiian\")\n - iw (\"Hebrew\")\n - hi (\"Hindi\")\n - hmn (\"Hmong\")\n - hu (\"Hungarian\")\n - is (\"Icelandic\")\n - ig (\"Igbo\")\n - id (\"Indonesian\")\n - iu (\"Inuktitut\")\n - ga (\"Irish\")\n - it (\"Italian\")\n - ja (\"Japanese\")\n - jv (\"Javanese\")\n - kl (\"Kalaallisut\")\n - kn (\"Kannada\")\n - kk (\"Kazakh\")\n - kha (\"Khasi\")\n - km (\"Khmer\")\n - rw (\"Kinyarwanda\")\n - ko (\"Korean\")\n - kri (\"Krio\")\n - ku (\"Kurdish\")\n - ky (\"Kyrgyz\")\n - lo (\"Lao\")\n - la (\"Latin\")\n - lv (\"Latvian\")\n - ln (\"Lingala\")\n - lt (\"Lithuanian\")\n - lua (\"Luba-Lulua\")\n - luo (\"Luo\")\n - lb (\"Luxembourgish\")\n - mk (\"Macedonian\")\n - mg (\"Malagasy\")\n - ms (\"Malay\")\n - ml (\"Malayalam\")\n - mt (\"Maltese\")\n - gv (\"Manx\")\n - mi (\"Māori\")\n - mr (\"Marathi\")\n - mn (\"Mongolian\")\n - mfe (\"Morisyen\")\n - ne (\"Nepali\")\n - new (\"Newari\")\n - nso (\"Northern Sotho\")\n - no (\"Norwegian\")\n - ny (\"Nyanja\")\n - oc (\"Occitan\")\n - or (\"Odia\")\n - om (\"Oromo\")\n - os (\"Ossetic\")\n - pam (\"Pampanga\")\n - ps (\"Pashto\")\n - fa (\"Persian\")\n - pl (\"Polish\")\n - pt (\"Portuguese\")\n - pt-PT (\"Portuguese (Portugal)\")\n - pa (\"Punjabi\")\n - qu (\"Quechua\")\n - ro (\"Romanian\")\n - rn (\"Rundi\")\n - ru (\"Russian\")\n - sm (\"Samoan\")\n - sg (\"Sango\")\n - sa (\"Sanskrit\")\n - gd (\"Scottish Gaelic\")\n - sr (\"Serbian\")\n - crs (\"Seselwa Creole French\")\n - sn (\"Shona\")\n - sd (\"Sindhi\")\n - si (\"Sinhala\")\n - sk (\"Slovak\")\n - sl (\"Slovenian\")\n - so (\"Somali\")\n - st (\"Southern Sotho\")\n - es (\"Spanish\")\n - su (\"Sundanese\")\n - sw (\"Swahili\")\n - ss (\"Swati\")\n - sv (\"Swedish\")\n - tg (\"Tajik\")\n - ta (\"Tamil\")\n - tt (\"Tatar\")\n - te (\"Telugu\")\n - th (\"Thai\")\n - bo (\"Tibetan\")\n - ti (\"Tigrinya\")\n - to (\"Tongan\")\n - ts (\"Tsonga\")\n - tn (\"Tswana\")\n - tum (\"Tumbuka\")\n - tr (\"Turkish\")\n - tk (\"Turkmen\")\n - uk (\"Ukrainian\")\n - ur (\"Urdu\")\n - ug (\"Uyghur\")\n - uz (\"Uzbek\")\n - ve (\"Venda\")\n - vi (\"Vietnamese\")\n - war (\"Waray\")\n - cy (\"Welsh\")\n - fy (\"Western Frisian\")\n - wo (\"Wolof\")\n - xh (\"Xhosa\")\n - yi (\"Yiddish\")\n - yo (\"Yoruba\")\n - zu (\"Zulu\")\n\nIf you are sure that the described cause is not responsible for this error and that a transcript should be retrievable, please create an issue at https://github.com/jdepoix/youtube-transcript-api/issues. Please add which version of youtube_transcript_api you are using and provide the information needed to replicate the error. Also make sure that there are no open issues which already describe your problem!",
     "output_type": "error",
     "traceback": [
      "\u001b[31m---------------------------------------------------------------------------\u001b[39m",
      "\u001b[31mNoTranscriptFound\u001b[39m                         Traceback (most recent call last)",
      "\u001b[36mCell\u001b[39m\u001b[36m \u001b[39m\u001b[32mIn[27]\u001b[39m\u001b[32m, line 2\u001b[39m\n\u001b[32m      1\u001b[39m ytt_api = YouTubeTranscriptApi()\n\u001b[32m----> \u001b[39m\u001b[32m2\u001b[39m fetched_transcript = \u001b[43mytt_api\u001b[49m\u001b[43m.\u001b[49m\u001b[43mfetch\u001b[49m\u001b[43m(\u001b[49m\u001b[33;43m'\u001b[39;49m\u001b[33;43mrm_j6O8y148\u001b[39;49m\u001b[33;43m'\u001b[39;49m\u001b[43m)\u001b[49m\n\u001b[32m      4\u001b[39m \u001b[38;5;66;03m# is iterable\u001b[39;00m\n\u001b[32m      5\u001b[39m \u001b[38;5;28;01mfor\u001b[39;00m snippet \u001b[38;5;129;01min\u001b[39;00m fetched_transcript:\n",
      "\u001b[36mFile \u001b[39m\u001b[32mc:\\Users\\Jatin Arora\\AppData\\Local\\Programs\\Python\\Python311\\Lib\\site-packages\\youtube_transcript_api\\_api.py:80\u001b[39m, in \u001b[36mYouTubeTranscriptApi.fetch\u001b[39m\u001b[34m(self, video_id, languages, preserve_formatting)\u001b[39m\n\u001b[32m     59\u001b[39m \u001b[38;5;28;01mdef\u001b[39;00m\u001b[38;5;250m \u001b[39m\u001b[34mfetch\u001b[39m(\n\u001b[32m     60\u001b[39m     \u001b[38;5;28mself\u001b[39m,\n\u001b[32m     61\u001b[39m     video_id: \u001b[38;5;28mstr\u001b[39m,\n\u001b[32m     62\u001b[39m     languages: Iterable[\u001b[38;5;28mstr\u001b[39m] = (\u001b[33m\"\u001b[39m\u001b[33men\u001b[39m\u001b[33m\"\u001b[39m,),\n\u001b[32m     63\u001b[39m     preserve_formatting: \u001b[38;5;28mbool\u001b[39m = \u001b[38;5;28;01mFalse\u001b[39;00m,\n\u001b[32m     64\u001b[39m ) -> FetchedTranscript:\n\u001b[32m     65\u001b[39m \u001b[38;5;250m    \u001b[39m\u001b[33;03m\"\"\"\u001b[39;00m\n\u001b[32m     66\u001b[39m \u001b[33;03m    Retrieves the transcript for a single video. This is just a shortcut for\u001b[39;00m\n\u001b[32m     67\u001b[39m \u001b[33;03m    calling:\u001b[39;00m\n\u001b[32m   (...)\u001b[39m\u001b[32m     76\u001b[39m \u001b[33;03m    :param preserve_formatting: whether to keep select HTML text formatting\u001b[39;00m\n\u001b[32m     77\u001b[39m \u001b[33;03m    \"\"\"\u001b[39;00m\n\u001b[32m     78\u001b[39m     \u001b[38;5;28;01mreturn\u001b[39;00m (\n\u001b[32m     79\u001b[39m         \u001b[38;5;28;43mself\u001b[39;49m\u001b[43m.\u001b[49m\u001b[43mlist\u001b[49m\u001b[43m(\u001b[49m\u001b[43mvideo_id\u001b[49m\u001b[43m)\u001b[49m\n\u001b[32m---> \u001b[39m\u001b[32m80\u001b[39m \u001b[43m        \u001b[49m\u001b[43m.\u001b[49m\u001b[43mfind_transcript\u001b[49m\u001b[43m(\u001b[49m\u001b[43mlanguages\u001b[49m\u001b[43m)\u001b[49m\n\u001b[32m     81\u001b[39m         .fetch(preserve_formatting=preserve_formatting)\n\u001b[32m     82\u001b[39m     )\n",
      "\u001b[36mFile \u001b[39m\u001b[32mc:\\Users\\Jatin Arora\\AppData\\Local\\Programs\\Python\\Python311\\Lib\\site-packages\\youtube_transcript_api\\_transcripts.py:265\u001b[39m, in \u001b[36mTranscriptList.find_transcript\u001b[39m\u001b[34m(self, language_codes)\u001b[39m\n\u001b[32m    254\u001b[39m \u001b[38;5;28;01mdef\u001b[39;00m\u001b[38;5;250m \u001b[39m\u001b[34mfind_transcript\u001b[39m(\u001b[38;5;28mself\u001b[39m, language_codes: Iterable[\u001b[38;5;28mstr\u001b[39m]) -> Transcript:\n\u001b[32m    255\u001b[39m \u001b[38;5;250m    \u001b[39m\u001b[33;03m\"\"\"\u001b[39;00m\n\u001b[32m    256\u001b[39m \u001b[33;03m    Finds a transcript for a given language code. Manually created transcripts are returned first and only if none\u001b[39;00m\n\u001b[32m    257\u001b[39m \u001b[33;03m    are found, generated transcripts are used. If you only want generated transcripts use\u001b[39;00m\n\u001b[32m   (...)\u001b[39m\u001b[32m    263\u001b[39m \u001b[33;03m    :return: the found Transcript\u001b[39;00m\n\u001b[32m    264\u001b[39m \u001b[33;03m    \"\"\"\u001b[39;00m\n\u001b[32m--> \u001b[39m\u001b[32m265\u001b[39m     \u001b[38;5;28;01mreturn\u001b[39;00m \u001b[38;5;28;43mself\u001b[39;49m\u001b[43m.\u001b[49m\u001b[43m_find_transcript\u001b[49m\u001b[43m(\u001b[49m\n\u001b[32m    266\u001b[39m \u001b[43m        \u001b[49m\u001b[43mlanguage_codes\u001b[49m\u001b[43m,\u001b[49m\n\u001b[32m    267\u001b[39m \u001b[43m        \u001b[49m\u001b[43m[\u001b[49m\u001b[38;5;28;43mself\u001b[39;49m\u001b[43m.\u001b[49m\u001b[43m_manually_created_transcripts\u001b[49m\u001b[43m,\u001b[49m\u001b[43m \u001b[49m\u001b[38;5;28;43mself\u001b[39;49m\u001b[43m.\u001b[49m\u001b[43m_generated_transcripts\u001b[49m\u001b[43m]\u001b[49m\u001b[43m,\u001b[49m\n\u001b[32m    268\u001b[39m \u001b[43m    \u001b[49m\u001b[43m)\u001b[49m\n",
      "\u001b[36mFile \u001b[39m\u001b[32mc:\\Users\\Jatin Arora\\AppData\\Local\\Programs\\Python\\Python311\\Lib\\site-packages\\youtube_transcript_api\\_transcripts.py:306\u001b[39m, in \u001b[36mTranscriptList._find_transcript\u001b[39m\u001b[34m(self, language_codes, transcript_dicts)\u001b[39m\n\u001b[32m    303\u001b[39m         \u001b[38;5;28;01mif\u001b[39;00m language_code \u001b[38;5;129;01min\u001b[39;00m transcript_dict:\n\u001b[32m    304\u001b[39m             \u001b[38;5;28;01mreturn\u001b[39;00m transcript_dict[language_code]\n\u001b[32m--> \u001b[39m\u001b[32m306\u001b[39m \u001b[38;5;28;01mraise\u001b[39;00m NoTranscriptFound(\u001b[38;5;28mself\u001b[39m.video_id, language_codes, \u001b[38;5;28mself\u001b[39m)\n",
      "\u001b[31mNoTranscriptFound\u001b[39m: \nCould not retrieve a transcript for the video https://www.youtube.com/watch?v=rm_j6O8y148! This is most likely caused by:\n\nNo transcripts were found for any of the requested language codes: ('en',)\n\nFor this video (rm_j6O8y148) transcripts are available in the following languages:\n\n(MANUALLY CREATED)\nNone\n\n(GENERATED)\n - hi (\"Hindi (auto-generated)\")[TRANSLATABLE]\n\n(TRANSLATION LANGUAGES)\n - ab (\"Abkhazian\")\n - aa (\"Afar\")\n - af (\"Afrikaans\")\n - ak (\"Akan\")\n - sq (\"Albanian\")\n - am (\"Amharic\")\n - ar (\"Arabic\")\n - hy (\"Armenian\")\n - as (\"Assamese\")\n - ay (\"Aymara\")\n - az (\"Azerbaijani\")\n - bn (\"Bangla\")\n - ba (\"Bashkir\")\n - eu (\"Basque\")\n - be (\"Belarusian\")\n - bho (\"Bhojpuri\")\n - bs (\"Bosnian\")\n - br (\"Breton\")\n - bg (\"Bulgarian\")\n - my (\"Burmese\")\n - ca (\"Catalan\")\n - ceb (\"Cebuano\")\n - zh-Hans (\"Chinese (Simplified)\")\n - zh-Hant (\"Chinese (Traditional)\")\n - co (\"Corsican\")\n - hr (\"Croatian\")\n - cs (\"Czech\")\n - da (\"Danish\")\n - dv (\"Divehi\")\n - nl (\"Dutch\")\n - dz (\"Dzongkha\")\n - en (\"English\")\n - eo (\"Esperanto\")\n - et (\"Estonian\")\n - ee (\"Ewe\")\n - fo (\"Faroese\")\n - fj (\"Fijian\")\n - fil (\"Filipino\")\n - fi (\"Finnish\")\n - fr (\"French\")\n - gaa (\"Ga\")\n - gl (\"Galician\")\n - lg (\"Ganda\")\n - ka (\"Georgian\")\n - de (\"German\")\n - el (\"Greek\")\n - gn (\"Guarani\")\n - gu (\"Gujarati\")\n - ht (\"Haitian Creole\")\n - ha (\"Hausa\")\n - haw (\"Hawaiian\")\n - iw (\"Hebrew\")\n - hi (\"Hindi\")\n - hmn (\"Hmong\")\n - hu (\"Hungarian\")\n - is (\"Icelandic\")\n - ig (\"Igbo\")\n - id (\"Indonesian\")\n - iu (\"Inuktitut\")\n - ga (\"Irish\")\n - it (\"Italian\")\n - ja (\"Japanese\")\n - jv (\"Javanese\")\n - kl (\"Kalaallisut\")\n - kn (\"Kannada\")\n - kk (\"Kazakh\")\n - kha (\"Khasi\")\n - km (\"Khmer\")\n - rw (\"Kinyarwanda\")\n - ko (\"Korean\")\n - kri (\"Krio\")\n - ku (\"Kurdish\")\n - ky (\"Kyrgyz\")\n - lo (\"Lao\")\n - la (\"Latin\")\n - lv (\"Latvian\")\n - ln (\"Lingala\")\n - lt (\"Lithuanian\")\n - lua (\"Luba-Lulua\")\n - luo (\"Luo\")\n - lb (\"Luxembourgish\")\n - mk (\"Macedonian\")\n - mg (\"Malagasy\")\n - ms (\"Malay\")\n - ml (\"Malayalam\")\n - mt (\"Maltese\")\n - gv (\"Manx\")\n - mi (\"Māori\")\n - mr (\"Marathi\")\n - mn (\"Mongolian\")\n - mfe (\"Morisyen\")\n - ne (\"Nepali\")\n - new (\"Newari\")\n - nso (\"Northern Sotho\")\n - no (\"Norwegian\")\n - ny (\"Nyanja\")\n - oc (\"Occitan\")\n - or (\"Odia\")\n - om (\"Oromo\")\n - os (\"Ossetic\")\n - pam (\"Pampanga\")\n - ps (\"Pashto\")\n - fa (\"Persian\")\n - pl (\"Polish\")\n - pt (\"Portuguese\")\n - pt-PT (\"Portuguese (Portugal)\")\n - pa (\"Punjabi\")\n - qu (\"Quechua\")\n - ro (\"Romanian\")\n - rn (\"Rundi\")\n - ru (\"Russian\")\n - sm (\"Samoan\")\n - sg (\"Sango\")\n - sa (\"Sanskrit\")\n - gd (\"Scottish Gaelic\")\n - sr (\"Serbian\")\n - crs (\"Seselwa Creole French\")\n - sn (\"Shona\")\n - sd (\"Sindhi\")\n - si (\"Sinhala\")\n - sk (\"Slovak\")\n - sl (\"Slovenian\")\n - so (\"Somali\")\n - st (\"Southern Sotho\")\n - es (\"Spanish\")\n - su (\"Sundanese\")\n - sw (\"Swahili\")\n - ss (\"Swati\")\n - sv (\"Swedish\")\n - tg (\"Tajik\")\n - ta (\"Tamil\")\n - tt (\"Tatar\")\n - te (\"Telugu\")\n - th (\"Thai\")\n - bo (\"Tibetan\")\n - ti (\"Tigrinya\")\n - to (\"Tongan\")\n - ts (\"Tsonga\")\n - tn (\"Tswana\")\n - tum (\"Tumbuka\")\n - tr (\"Turkish\")\n - tk (\"Turkmen\")\n - uk (\"Ukrainian\")\n - ur (\"Urdu\")\n - ug (\"Uyghur\")\n - uz (\"Uzbek\")\n - ve (\"Venda\")\n - vi (\"Vietnamese\")\n - war (\"Waray\")\n - cy (\"Welsh\")\n - fy (\"Western Frisian\")\n - wo (\"Wolof\")\n - xh (\"Xhosa\")\n - yi (\"Yiddish\")\n - yo (\"Yoruba\")\n - zu (\"Zulu\")\n\nIf you are sure that the described cause is not responsible for this error and that a transcript should be retrievable, please create an issue at https://github.com/jdepoix/youtube-transcript-api/issues. Please add which version of youtube_transcript_api you are using and provide the information needed to replicate the error. Also make sure that there are no open issues which already describe your problem!"
     ]
    }
   ],
   "source": [
    "ytt_api = YouTubeTranscriptApi()\n",
    "fetched_transcript = ytt_api.fetch('rm_j6O8y148')\n",
    "\n",
    "# is iterable\n",
    "for snippet in fetched_transcript:\n",
    "    print(snippet.text)\n"
   ]
  },
  {
   "cell_type": "code",
   "execution_count": null,
   "metadata": {},
   "outputs": [
    {
     "ename": "NoTranscriptFound",
     "evalue": "\nCould not retrieve a transcript for the video https://www.youtube.com/watch?v=rm_j6O8y148! This is most likely caused by:\n\nNo transcripts were found for any of the requested language codes: ('en',)\n\nFor this video (rm_j6O8y148) transcripts are available in the following languages:\n\n(MANUALLY CREATED)\nNone\n\n(GENERATED)\n - hi (\"Hindi (auto-generated)\")[TRANSLATABLE]\n\n(TRANSLATION LANGUAGES)\n - ab (\"Abkhazian\")\n - aa (\"Afar\")\n - af (\"Afrikaans\")\n - ak (\"Akan\")\n - sq (\"Albanian\")\n - am (\"Amharic\")\n - ar (\"Arabic\")\n - hy (\"Armenian\")\n - as (\"Assamese\")\n - ay (\"Aymara\")\n - az (\"Azerbaijani\")\n - bn (\"Bangla\")\n - ba (\"Bashkir\")\n - eu (\"Basque\")\n - be (\"Belarusian\")\n - bho (\"Bhojpuri\")\n - bs (\"Bosnian\")\n - br (\"Breton\")\n - bg (\"Bulgarian\")\n - my (\"Burmese\")\n - ca (\"Catalan\")\n - ceb (\"Cebuano\")\n - zh-Hans (\"Chinese (Simplified)\")\n - zh-Hant (\"Chinese (Traditional)\")\n - co (\"Corsican\")\n - hr (\"Croatian\")\n - cs (\"Czech\")\n - da (\"Danish\")\n - dv (\"Divehi\")\n - nl (\"Dutch\")\n - dz (\"Dzongkha\")\n - en (\"English\")\n - eo (\"Esperanto\")\n - et (\"Estonian\")\n - ee (\"Ewe\")\n - fo (\"Faroese\")\n - fj (\"Fijian\")\n - fil (\"Filipino\")\n - fi (\"Finnish\")\n - fr (\"French\")\n - gaa (\"Ga\")\n - gl (\"Galician\")\n - lg (\"Ganda\")\n - ka (\"Georgian\")\n - de (\"German\")\n - el (\"Greek\")\n - gn (\"Guarani\")\n - gu (\"Gujarati\")\n - ht (\"Haitian Creole\")\n - ha (\"Hausa\")\n - haw (\"Hawaiian\")\n - iw (\"Hebrew\")\n - hi (\"Hindi\")\n - hmn (\"Hmong\")\n - hu (\"Hungarian\")\n - is (\"Icelandic\")\n - ig (\"Igbo\")\n - id (\"Indonesian\")\n - iu (\"Inuktitut\")\n - ga (\"Irish\")\n - it (\"Italian\")\n - ja (\"Japanese\")\n - jv (\"Javanese\")\n - kl (\"Kalaallisut\")\n - kn (\"Kannada\")\n - kk (\"Kazakh\")\n - kha (\"Khasi\")\n - km (\"Khmer\")\n - rw (\"Kinyarwanda\")\n - ko (\"Korean\")\n - kri (\"Krio\")\n - ku (\"Kurdish\")\n - ky (\"Kyrgyz\")\n - lo (\"Lao\")\n - la (\"Latin\")\n - lv (\"Latvian\")\n - ln (\"Lingala\")\n - lt (\"Lithuanian\")\n - lua (\"Luba-Lulua\")\n - luo (\"Luo\")\n - lb (\"Luxembourgish\")\n - mk (\"Macedonian\")\n - mg (\"Malagasy\")\n - ms (\"Malay\")\n - ml (\"Malayalam\")\n - mt (\"Maltese\")\n - gv (\"Manx\")\n - mi (\"Māori\")\n - mr (\"Marathi\")\n - mn (\"Mongolian\")\n - mfe (\"Morisyen\")\n - ne (\"Nepali\")\n - new (\"Newari\")\n - nso (\"Northern Sotho\")\n - no (\"Norwegian\")\n - ny (\"Nyanja\")\n - oc (\"Occitan\")\n - or (\"Odia\")\n - om (\"Oromo\")\n - os (\"Ossetic\")\n - pam (\"Pampanga\")\n - ps (\"Pashto\")\n - fa (\"Persian\")\n - pl (\"Polish\")\n - pt (\"Portuguese\")\n - pt-PT (\"Portuguese (Portugal)\")\n - pa (\"Punjabi\")\n - qu (\"Quechua\")\n - ro (\"Romanian\")\n - rn (\"Rundi\")\n - ru (\"Russian\")\n - sm (\"Samoan\")\n - sg (\"Sango\")\n - sa (\"Sanskrit\")\n - gd (\"Scottish Gaelic\")\n - sr (\"Serbian\")\n - crs (\"Seselwa Creole French\")\n - sn (\"Shona\")\n - sd (\"Sindhi\")\n - si (\"Sinhala\")\n - sk (\"Slovak\")\n - sl (\"Slovenian\")\n - so (\"Somali\")\n - st (\"Southern Sotho\")\n - es (\"Spanish\")\n - su (\"Sundanese\")\n - sw (\"Swahili\")\n - ss (\"Swati\")\n - sv (\"Swedish\")\n - tg (\"Tajik\")\n - ta (\"Tamil\")\n - tt (\"Tatar\")\n - te (\"Telugu\")\n - th (\"Thai\")\n - bo (\"Tibetan\")\n - ti (\"Tigrinya\")\n - to (\"Tongan\")\n - ts (\"Tsonga\")\n - tn (\"Tswana\")\n - tum (\"Tumbuka\")\n - tr (\"Turkish\")\n - tk (\"Turkmen\")\n - uk (\"Ukrainian\")\n - ur (\"Urdu\")\n - ug (\"Uyghur\")\n - uz (\"Uzbek\")\n - ve (\"Venda\")\n - vi (\"Vietnamese\")\n - war (\"Waray\")\n - cy (\"Welsh\")\n - fy (\"Western Frisian\")\n - wo (\"Wolof\")\n - xh (\"Xhosa\")\n - yi (\"Yiddish\")\n - yo (\"Yoruba\")\n - zu (\"Zulu\")\n\nIf you are sure that the described cause is not responsible for this error and that a transcript should be retrievable, please create an issue at https://github.com/jdepoix/youtube-transcript-api/issues. Please add which version of youtube_transcript_api you are using and provide the information needed to replicate the error. Also make sure that there are no open issues which already describe your problem!",
     "output_type": "error",
     "traceback": [
      "\u001b[31m---------------------------------------------------------------------------\u001b[39m",
      "\u001b[31mNoTranscriptFound\u001b[39m                         Traceback (most recent call last)",
      "\u001b[36mCell\u001b[39m\u001b[36m \u001b[39m\u001b[32mIn[28]\u001b[39m\u001b[32m, line 2\u001b[39m\n\u001b[32m      1\u001b[39m ytt_api = YouTubeTranscriptApi()\n\u001b[32m----> \u001b[39m\u001b[32m2\u001b[39m fetched_transcript = \u001b[43mytt_api\u001b[49m\u001b[43m.\u001b[49m\u001b[43mfetch\u001b[49m\u001b[43m(\u001b[49m\u001b[33;43m'\u001b[39;49m\u001b[33;43mrm_j6O8y148\u001b[39;49m\u001b[33;43m'\u001b[39;49m\u001b[43m)\u001b[49m\n\u001b[32m      4\u001b[39m \u001b[38;5;66;03m# is iterable\u001b[39;00m\n\u001b[32m      5\u001b[39m \u001b[38;5;28;01mfor\u001b[39;00m snippet \u001b[38;5;129;01min\u001b[39;00m fetched_transcript:\n",
      "\u001b[36mFile \u001b[39m\u001b[32mc:\\Users\\Jatin Arora\\AppData\\Local\\Programs\\Python\\Python311\\Lib\\site-packages\\youtube_transcript_api\\_api.py:80\u001b[39m, in \u001b[36mYouTubeTranscriptApi.fetch\u001b[39m\u001b[34m(self, video_id, languages, preserve_formatting)\u001b[39m\n\u001b[32m     59\u001b[39m \u001b[38;5;28;01mdef\u001b[39;00m\u001b[38;5;250m \u001b[39m\u001b[34mfetch\u001b[39m(\n\u001b[32m     60\u001b[39m     \u001b[38;5;28mself\u001b[39m,\n\u001b[32m     61\u001b[39m     video_id: \u001b[38;5;28mstr\u001b[39m,\n\u001b[32m     62\u001b[39m     languages: Iterable[\u001b[38;5;28mstr\u001b[39m] = (\u001b[33m\"\u001b[39m\u001b[33men\u001b[39m\u001b[33m\"\u001b[39m,),\n\u001b[32m     63\u001b[39m     preserve_formatting: \u001b[38;5;28mbool\u001b[39m = \u001b[38;5;28;01mFalse\u001b[39;00m,\n\u001b[32m     64\u001b[39m ) -> FetchedTranscript:\n\u001b[32m     65\u001b[39m \u001b[38;5;250m    \u001b[39m\u001b[33;03m\"\"\"\u001b[39;00m\n\u001b[32m     66\u001b[39m \u001b[33;03m    Retrieves the transcript for a single video. This is just a shortcut for\u001b[39;00m\n\u001b[32m     67\u001b[39m \u001b[33;03m    calling:\u001b[39;00m\n\u001b[32m   (...)\u001b[39m\u001b[32m     76\u001b[39m \u001b[33;03m    :param preserve_formatting: whether to keep select HTML text formatting\u001b[39;00m\n\u001b[32m     77\u001b[39m \u001b[33;03m    \"\"\"\u001b[39;00m\n\u001b[32m     78\u001b[39m     \u001b[38;5;28;01mreturn\u001b[39;00m (\n\u001b[32m     79\u001b[39m         \u001b[38;5;28;43mself\u001b[39;49m\u001b[43m.\u001b[49m\u001b[43mlist\u001b[49m\u001b[43m(\u001b[49m\u001b[43mvideo_id\u001b[49m\u001b[43m)\u001b[49m\n\u001b[32m---> \u001b[39m\u001b[32m80\u001b[39m \u001b[43m        \u001b[49m\u001b[43m.\u001b[49m\u001b[43mfind_transcript\u001b[49m\u001b[43m(\u001b[49m\u001b[43mlanguages\u001b[49m\u001b[43m)\u001b[49m\n\u001b[32m     81\u001b[39m         .fetch(preserve_formatting=preserve_formatting)\n\u001b[32m     82\u001b[39m     )\n",
      "\u001b[36mFile \u001b[39m\u001b[32mc:\\Users\\Jatin Arora\\AppData\\Local\\Programs\\Python\\Python311\\Lib\\site-packages\\youtube_transcript_api\\_transcripts.py:265\u001b[39m, in \u001b[36mTranscriptList.find_transcript\u001b[39m\u001b[34m(self, language_codes)\u001b[39m\n\u001b[32m    254\u001b[39m \u001b[38;5;28;01mdef\u001b[39;00m\u001b[38;5;250m \u001b[39m\u001b[34mfind_transcript\u001b[39m(\u001b[38;5;28mself\u001b[39m, language_codes: Iterable[\u001b[38;5;28mstr\u001b[39m]) -> Transcript:\n\u001b[32m    255\u001b[39m \u001b[38;5;250m    \u001b[39m\u001b[33;03m\"\"\"\u001b[39;00m\n\u001b[32m    256\u001b[39m \u001b[33;03m    Finds a transcript for a given language code. Manually created transcripts are returned first and only if none\u001b[39;00m\n\u001b[32m    257\u001b[39m \u001b[33;03m    are found, generated transcripts are used. If you only want generated transcripts use\u001b[39;00m\n\u001b[32m   (...)\u001b[39m\u001b[32m    263\u001b[39m \u001b[33;03m    :return: the found Transcript\u001b[39;00m\n\u001b[32m    264\u001b[39m \u001b[33;03m    \"\"\"\u001b[39;00m\n\u001b[32m--> \u001b[39m\u001b[32m265\u001b[39m     \u001b[38;5;28;01mreturn\u001b[39;00m \u001b[38;5;28;43mself\u001b[39;49m\u001b[43m.\u001b[49m\u001b[43m_find_transcript\u001b[49m\u001b[43m(\u001b[49m\n\u001b[32m    266\u001b[39m \u001b[43m        \u001b[49m\u001b[43mlanguage_codes\u001b[49m\u001b[43m,\u001b[49m\n\u001b[32m    267\u001b[39m \u001b[43m        \u001b[49m\u001b[43m[\u001b[49m\u001b[38;5;28;43mself\u001b[39;49m\u001b[43m.\u001b[49m\u001b[43m_manually_created_transcripts\u001b[49m\u001b[43m,\u001b[49m\u001b[43m \u001b[49m\u001b[38;5;28;43mself\u001b[39;49m\u001b[43m.\u001b[49m\u001b[43m_generated_transcripts\u001b[49m\u001b[43m]\u001b[49m\u001b[43m,\u001b[49m\n\u001b[32m    268\u001b[39m \u001b[43m    \u001b[49m\u001b[43m)\u001b[49m\n",
      "\u001b[36mFile \u001b[39m\u001b[32mc:\\Users\\Jatin Arora\\AppData\\Local\\Programs\\Python\\Python311\\Lib\\site-packages\\youtube_transcript_api\\_transcripts.py:306\u001b[39m, in \u001b[36mTranscriptList._find_transcript\u001b[39m\u001b[34m(self, language_codes, transcript_dicts)\u001b[39m\n\u001b[32m    303\u001b[39m         \u001b[38;5;28;01mif\u001b[39;00m language_code \u001b[38;5;129;01min\u001b[39;00m transcript_dict:\n\u001b[32m    304\u001b[39m             \u001b[38;5;28;01mreturn\u001b[39;00m transcript_dict[language_code]\n\u001b[32m--> \u001b[39m\u001b[32m306\u001b[39m \u001b[38;5;28;01mraise\u001b[39;00m NoTranscriptFound(\u001b[38;5;28mself\u001b[39m.video_id, language_codes, \u001b[38;5;28mself\u001b[39m)\n",
      "\u001b[31mNoTranscriptFound\u001b[39m: \nCould not retrieve a transcript for the video https://www.youtube.com/watch?v=rm_j6O8y148! This is most likely caused by:\n\nNo transcripts were found for any of the requested language codes: ('en',)\n\nFor this video (rm_j6O8y148) transcripts are available in the following languages:\n\n(MANUALLY CREATED)\nNone\n\n(GENERATED)\n - hi (\"Hindi (auto-generated)\")[TRANSLATABLE]\n\n(TRANSLATION LANGUAGES)\n - ab (\"Abkhazian\")\n - aa (\"Afar\")\n - af (\"Afrikaans\")\n - ak (\"Akan\")\n - sq (\"Albanian\")\n - am (\"Amharic\")\n - ar (\"Arabic\")\n - hy (\"Armenian\")\n - as (\"Assamese\")\n - ay (\"Aymara\")\n - az (\"Azerbaijani\")\n - bn (\"Bangla\")\n - ba (\"Bashkir\")\n - eu (\"Basque\")\n - be (\"Belarusian\")\n - bho (\"Bhojpuri\")\n - bs (\"Bosnian\")\n - br (\"Breton\")\n - bg (\"Bulgarian\")\n - my (\"Burmese\")\n - ca (\"Catalan\")\n - ceb (\"Cebuano\")\n - zh-Hans (\"Chinese (Simplified)\")\n - zh-Hant (\"Chinese (Traditional)\")\n - co (\"Corsican\")\n - hr (\"Croatian\")\n - cs (\"Czech\")\n - da (\"Danish\")\n - dv (\"Divehi\")\n - nl (\"Dutch\")\n - dz (\"Dzongkha\")\n - en (\"English\")\n - eo (\"Esperanto\")\n - et (\"Estonian\")\n - ee (\"Ewe\")\n - fo (\"Faroese\")\n - fj (\"Fijian\")\n - fil (\"Filipino\")\n - fi (\"Finnish\")\n - fr (\"French\")\n - gaa (\"Ga\")\n - gl (\"Galician\")\n - lg (\"Ganda\")\n - ka (\"Georgian\")\n - de (\"German\")\n - el (\"Greek\")\n - gn (\"Guarani\")\n - gu (\"Gujarati\")\n - ht (\"Haitian Creole\")\n - ha (\"Hausa\")\n - haw (\"Hawaiian\")\n - iw (\"Hebrew\")\n - hi (\"Hindi\")\n - hmn (\"Hmong\")\n - hu (\"Hungarian\")\n - is (\"Icelandic\")\n - ig (\"Igbo\")\n - id (\"Indonesian\")\n - iu (\"Inuktitut\")\n - ga (\"Irish\")\n - it (\"Italian\")\n - ja (\"Japanese\")\n - jv (\"Javanese\")\n - kl (\"Kalaallisut\")\n - kn (\"Kannada\")\n - kk (\"Kazakh\")\n - kha (\"Khasi\")\n - km (\"Khmer\")\n - rw (\"Kinyarwanda\")\n - ko (\"Korean\")\n - kri (\"Krio\")\n - ku (\"Kurdish\")\n - ky (\"Kyrgyz\")\n - lo (\"Lao\")\n - la (\"Latin\")\n - lv (\"Latvian\")\n - ln (\"Lingala\")\n - lt (\"Lithuanian\")\n - lua (\"Luba-Lulua\")\n - luo (\"Luo\")\n - lb (\"Luxembourgish\")\n - mk (\"Macedonian\")\n - mg (\"Malagasy\")\n - ms (\"Malay\")\n - ml (\"Malayalam\")\n - mt (\"Maltese\")\n - gv (\"Manx\")\n - mi (\"Māori\")\n - mr (\"Marathi\")\n - mn (\"Mongolian\")\n - mfe (\"Morisyen\")\n - ne (\"Nepali\")\n - new (\"Newari\")\n - nso (\"Northern Sotho\")\n - no (\"Norwegian\")\n - ny (\"Nyanja\")\n - oc (\"Occitan\")\n - or (\"Odia\")\n - om (\"Oromo\")\n - os (\"Ossetic\")\n - pam (\"Pampanga\")\n - ps (\"Pashto\")\n - fa (\"Persian\")\n - pl (\"Polish\")\n - pt (\"Portuguese\")\n - pt-PT (\"Portuguese (Portugal)\")\n - pa (\"Punjabi\")\n - qu (\"Quechua\")\n - ro (\"Romanian\")\n - rn (\"Rundi\")\n - ru (\"Russian\")\n - sm (\"Samoan\")\n - sg (\"Sango\")\n - sa (\"Sanskrit\")\n - gd (\"Scottish Gaelic\")\n - sr (\"Serbian\")\n - crs (\"Seselwa Creole French\")\n - sn (\"Shona\")\n - sd (\"Sindhi\")\n - si (\"Sinhala\")\n - sk (\"Slovak\")\n - sl (\"Slovenian\")\n - so (\"Somali\")\n - st (\"Southern Sotho\")\n - es (\"Spanish\")\n - su (\"Sundanese\")\n - sw (\"Swahili\")\n - ss (\"Swati\")\n - sv (\"Swedish\")\n - tg (\"Tajik\")\n - ta (\"Tamil\")\n - tt (\"Tatar\")\n - te (\"Telugu\")\n - th (\"Thai\")\n - bo (\"Tibetan\")\n - ti (\"Tigrinya\")\n - to (\"Tongan\")\n - ts (\"Tsonga\")\n - tn (\"Tswana\")\n - tum (\"Tumbuka\")\n - tr (\"Turkish\")\n - tk (\"Turkmen\")\n - uk (\"Ukrainian\")\n - ur (\"Urdu\")\n - ug (\"Uyghur\")\n - uz (\"Uzbek\")\n - ve (\"Venda\")\n - vi (\"Vietnamese\")\n - war (\"Waray\")\n - cy (\"Welsh\")\n - fy (\"Western Frisian\")\n - wo (\"Wolof\")\n - xh (\"Xhosa\")\n - yi (\"Yiddish\")\n - yo (\"Yoruba\")\n - zu (\"Zulu\")\n\nIf you are sure that the described cause is not responsible for this error and that a transcript should be retrievable, please create an issue at https://github.com/jdepoix/youtube-transcript-api/issues. Please add which version of youtube_transcript_api you are using and provide the information needed to replicate the error. Also make sure that there are no open issues which already describe your problem!"
     ]
    }
   ],
   "source": [
    "# ytt_api = YouTubeTranscriptApi()\n",
    "# fetched_transcript = ytt_api.fetch('rm_j6O8y148')\n",
    "\n",
    "# # is iterable\n",
    "# for snippet in fetched_transcript:\n",
    "#     print(snippet.text)"
   ]
  },
  {
   "cell_type": "code",
   "execution_count": 32,
   "metadata": {},
   "outputs": [
    {
     "name": "stdout",
     "output_type": "stream",
     "text": [
      "Available transcripts for video 5zA6OFpkPe0:\n",
      "\n",
      "Language: hi, Translatable: True\n",
      "here\n",
      "❌ Failed to fetch transcript for hi: no element found: line 1, column 0\n"
     ]
    }
   ],
   "source": [
    "from youtube_transcript_api import YouTubeTranscriptApi\n",
    "from youtube_transcript_api._errors import NoTranscriptFound, TranscriptsDisabled, NotTranslatable\n",
    "import time\n",
    "\n",
    "video_id = '5zA6OFpkPe0'\n",
    "\n",
    "try:\n",
    "    transcript_list = YouTubeTranscriptApi.list_transcripts(video_id)\n",
    "    print(f\"Available transcripts for video {video_id}:\\n\")\n",
    "\n",
    "    for transcript in transcript_list:\n",
    "        print(f\"Language: {transcript.language_code}, Translatable: {transcript.is_translatable}\")\n",
    "\n",
    "        try:\n",
    "            # Prefer original English transcript if available\n",
    "            if transcript.language_code in ['en', 'en-US']:\n",
    "                ts = transcript.fetch()\n",
    "            elif transcript.is_translatable:\n",
    "                translated = transcript.translate('en')\n",
    "                print('here')\n",
    "                ts = translated.fetch()\n",
    "                print('here 1')\n",
    "            else:\n",
    "                print(f\"Skipping: transcript in {transcript.language_code} is not translatable.\")\n",
    "                continue\n",
    "\n",
    "            print(f\"\\n✅ Successfully fetched {len(ts)} transcript segments from {transcript.language_code}\\n\")\n",
    "            print(\"Sample transcript:\")\n",
    "            for entry in ts[:5]:  # print first 5 lines\n",
    "                print(\"•\", entry['text'])\n",
    "\n",
    "            break  # Stop after first successful fetch\n",
    "\n",
    "        except Exception as fetch_err:\n",
    "            print(f\"❌ Failed to fetch transcript for {transcript.language_code}: {fetch_err}\")\n",
    "        time.sleep(1)  # Add delay to avoid rate limit\n",
    "\n",
    "except (NoTranscriptFound, TranscriptsDisabled) as e:\n",
    "    print(f\"❌ Transcript not available for video {video_id}: {e}\")\n"
   ]
  },
  {
   "cell_type": "code",
   "execution_count": 33,
   "metadata": {},
   "outputs": [
    {
     "name": "stdout",
     "output_type": "stream",
     "text": [
      "⚠️ No native English transcript found. Trying translation...\n",
      "❌ Translation failed for hi: no element found: line 1, column 0\n"
     ]
    },
    {
     "ename": "Exception",
     "evalue": "No valid transcript found or fetchable.",
     "output_type": "error",
     "traceback": [
      "\u001b[31m---------------------------------------------------------------------------\u001b[39m",
      "\u001b[31mException\u001b[39m                                 Traceback (most recent call last)",
      "\u001b[36mCell\u001b[39m\u001b[36m \u001b[39m\u001b[32mIn[33]\u001b[39m\u001b[32m, line 45\u001b[39m\n\u001b[32m     43\u001b[39m \u001b[38;5;66;03m# Example usage:\u001b[39;00m\n\u001b[32m     44\u001b[39m video_id = \u001b[33m\"\u001b[39m\u001b[33m5zA6OFpkPe0\u001b[39m\u001b[33m\"\u001b[39m\n\u001b[32m---> \u001b[39m\u001b[32m45\u001b[39m transcript_data = \u001b[43msafe_fetch_transcript\u001b[49m\u001b[43m(\u001b[49m\u001b[43mvideo_id\u001b[49m\u001b[43m)\u001b[49m\n\u001b[32m     47\u001b[39m \u001b[38;5;28;01mif\u001b[39;00m transcript_data:\n\u001b[32m     48\u001b[39m     \u001b[38;5;28mprint\u001b[39m(\u001b[33m\"\u001b[39m\u001b[38;5;130;01m\\n\u001b[39;00m\u001b[33m✅ Transcript sample:\u001b[39m\u001b[33m\"\u001b[39m)\n",
      "\u001b[36mCell\u001b[39m\u001b[36m \u001b[39m\u001b[32mIn[33]\u001b[39m\u001b[32m, line 37\u001b[39m, in \u001b[36msafe_fetch_transcript\u001b[39m\u001b[34m(video_id)\u001b[39m\n\u001b[32m     34\u001b[39m         \u001b[38;5;28;01melse\u001b[39;00m:\n\u001b[32m     35\u001b[39m             \u001b[38;5;28mprint\u001b[39m(\u001b[33mf\u001b[39m\u001b[33m\"\u001b[39m\u001b[33mSkipping \u001b[39m\u001b[38;5;132;01m{\u001b[39;00mtranscript.language_code\u001b[38;5;132;01m}\u001b[39;00m\u001b[33m — not translatable.\u001b[39m\u001b[33m\"\u001b[39m)\n\u001b[32m---> \u001b[39m\u001b[32m37\u001b[39m     \u001b[38;5;28;01mraise\u001b[39;00m \u001b[38;5;167;01mException\u001b[39;00m(\u001b[33m\"\u001b[39m\u001b[33mNo valid transcript found or fetchable.\u001b[39m\u001b[33m\"\u001b[39m)\n\u001b[32m     39\u001b[39m \u001b[38;5;28;01mexcept\u001b[39;00m (NoTranscriptFound, TranscriptsDisabled, VideoUnavailable) \u001b[38;5;28;01mas\u001b[39;00m e:\n\u001b[32m     40\u001b[39m     \u001b[38;5;28mprint\u001b[39m(\u001b[33mf\u001b[39m\u001b[33m\"\u001b[39m\u001b[33m❌ Transcript not available for video \u001b[39m\u001b[38;5;132;01m{\u001b[39;00mvideo_id\u001b[38;5;132;01m}\u001b[39;00m\u001b[33m: \u001b[39m\u001b[38;5;132;01m{\u001b[39;00me\u001b[38;5;132;01m}\u001b[39;00m\u001b[33m\"\u001b[39m)\n",
      "\u001b[31mException\u001b[39m: No valid transcript found or fetchable."
     ]
    }
   ],
   "source": [
    "from youtube_transcript_api import YouTubeTranscriptApi\n",
    "from youtube_transcript_api._errors import (\n",
    "    NoTranscriptFound,\n",
    "    TranscriptsDisabled,\n",
    "    NotTranslatable,\n",
    "    VideoUnavailable\n",
    ")\n",
    "\n",
    "def safe_fetch_transcript(video_id):\n",
    "    \"\"\"\n",
    "    Tries to fetch English transcript for a video.\n",
    "    Falls back to translation if no native English transcript is found.\n",
    "    Skips invalid or broken transcript fetch attempts.\n",
    "    \"\"\"\n",
    "    try:\n",
    "        transcript_list = YouTubeTranscriptApi.list_transcripts(video_id)\n",
    "\n",
    "        # First, try native English transcript\n",
    "        try:\n",
    "            transcript = transcript_list.find_transcript(['en', 'en-US'])\n",
    "            print(\"✅ Found native English transcript.\")\n",
    "            return transcript.fetch()\n",
    "        except NoTranscriptFound:\n",
    "            print(\"⚠️ No native English transcript found. Trying translation...\")\n",
    "\n",
    "        # Try to fetch translated transcript from any available source\n",
    "        for transcript in transcript_list:\n",
    "            if transcript.is_translatable:\n",
    "                try:\n",
    "                    translated = transcript.translate('en')\n",
    "                    return translated.fetch()\n",
    "                except Exception as e:\n",
    "                    print(f\"❌ Translation failed for {transcript.language_code}: {e}\")\n",
    "            else:\n",
    "                print(f\"Skipping {transcript.language_code} — not translatable.\")\n",
    "\n",
    "        raise Exception(\"No valid transcript found or fetchable.\")\n",
    "\n",
    "    except (NoTranscriptFound, TranscriptsDisabled, VideoUnavailable) as e:\n",
    "        print(f\"❌ Transcript not available for video {video_id}: {e}\")\n",
    "        return None\n",
    "\n",
    "# Example usage:\n",
    "video_id = \"5zA6OFpkPe0\"\n",
    "transcript_data = safe_fetch_transcript(video_id)\n",
    "\n",
    "if transcript_data:\n",
    "    print(\"\\n✅ Transcript sample:\")\n",
    "    for entry in transcript_data[:5]:\n",
    "        print(\"•\", entry['text'])\n",
    "else:\n",
    "    print(\"❌ Could not fetch transcript.\")\n"
   ]
  },
  {
   "cell_type": "code",
   "execution_count": 38,
   "metadata": {},
   "outputs": [
    {
     "name": "stdout",
     "output_type": "stream",
     "text": [
      "[youtube] Extracting URL: https://www.youtube.com/watch?v=5zA6OFpkPe0\n",
      "[youtube] 5zA6OFpkPe0: Downloading webpage\n",
      "[youtube] 5zA6OFpkPe0: Downloading tv client config\n",
      "[youtube] 5zA6OFpkPe0: Downloading tv player API JSON\n",
      "[youtube] 5zA6OFpkPe0: Downloading ios player API JSON\n",
      "[youtube] 5zA6OFpkPe0: Downloading m3u8 information\n",
      "[info] 5zA6OFpkPe0: Downloading subtitles: en\n",
      "[info] 5zA6OFpkPe0: Downloading 1 format(s): 18\n",
      "[info] Writing video subtitles to: 5zA6OFpkPe0.en.vtt\n",
      "[download] Destination: 5zA6OFpkPe0.en.vtt\n",
      "\n",
      "[download]    1.00KiB at   39.10KiB/s (00:00:00)\n",
      "[download]    3.00KiB at  110.74KiB/s (00:00:00)\n",
      "[download]    7.00KiB at  246.83KiB/s (00:00:00)\n",
      "[download]   15.00KiB at  506.21KiB/s (00:00:00)\n",
      "[download]   31.00KiB at  979.19KiB/s (00:00:00)\n",
      "[download]   63.00KiB at    1.88MiB/s (00:00:00)\n",
      "[download]   94.81KiB at    2.75MiB/s (00:00:00)\n",
      "[download] 100% of   94.81KiB in 00:00:00 at 203.19KiB/s\n"
     ]
    },
    {
     "name": "stderr",
     "output_type": "stream",
     "text": [
      "WARNING: ffmpeg not found. The downloaded format may not be the best available. Installing ffmpeg is strongly recommended: https://github.com/yt-dlp/yt-dlp#dependencies\n"
     ]
    }
   ],
   "source": [
    "! yt-dlp --write-auto-sub --sub-lang en --skip-download -o \"%(id)s.%(ext)s\" https://www.youtube.com/watch?v=5zA6OFpkPe0"
   ]
  },
  {
   "cell_type": "code",
   "execution_count": 36,
   "metadata": {},
   "outputs": [
    {
     "name": "stdout",
     "output_type": "stream",
     "text": [
      "Collecting yt-dlp\n",
      "  Downloading yt_dlp-2025.6.9-py3-none-any.whl (3.3 MB)\n",
      "     ---------------------------------------- 0.0/3.3 MB ? eta -:--:--\n",
      "     --- ------------------------------------ 0.3/3.3 MB 8.6 MB/s eta 0:00:01\n",
      "     ----- ---------------------------------- 0.5/3.3 MB 5.9 MB/s eta 0:00:01\n",
      "     ----------- ---------------------------- 0.9/3.3 MB 7.2 MB/s eta 0:00:01\n",
      "     ------------- -------------------------- 1.1/3.3 MB 6.2 MB/s eta 0:00:01\n",
      "     -------------- ------------------------- 1.2/3.3 MB 6.1 MB/s eta 0:00:01\n",
      "     --------------- ------------------------ 1.3/3.3 MB 4.7 MB/s eta 0:00:01\n",
      "     ------------------ --------------------- 1.5/3.3 MB 4.9 MB/s eta 0:00:01\n",
      "     --------------------- ------------------ 1.8/3.3 MB 4.8 MB/s eta 0:00:01\n",
      "     ----------------------- ---------------- 1.9/3.3 MB 4.7 MB/s eta 0:00:01\n",
      "     ------------------------- -------------- 2.1/3.3 MB 4.6 MB/s eta 0:00:01\n",
      "     ---------------------------- ----------- 2.3/3.3 MB 4.6 MB/s eta 0:00:01\n",
      "     ------------------------------ --------- 2.5/3.3 MB 4.5 MB/s eta 0:00:01\n",
      "     -------------------------------- ------- 2.6/3.3 MB 4.4 MB/s eta 0:00:01\n",
      "     ---------------------------------- ----- 2.8/3.3 MB 4.4 MB/s eta 0:00:01\n",
      "     ------------------------------------ --- 3.0/3.3 MB 4.3 MB/s eta 0:00:01\n",
      "     ---------------------------------------  3.2/3.3 MB 4.3 MB/s eta 0:00:01\n",
      "     ---------------------------------------  3.3/3.3 MB 4.3 MB/s eta 0:00:01\n",
      "     ---------------------------------------- 3.3/3.3 MB 4.1 MB/s eta 0:00:00\n",
      "Installing collected packages: yt-dlp\n",
      "Successfully installed yt-dlp-2025.6.9\n"
     ]
    },
    {
     "name": "stderr",
     "output_type": "stream",
     "text": [
      "\n",
      "[notice] A new release of pip is available: 23.0.1 -> 25.1.1\n",
      "[notice] To update, run: python.exe -m pip install --upgrade pip\n"
     ]
    }
   ],
   "source": [
    "! pip install -U yt-dlp"
   ]
  },
  {
   "cell_type": "code",
   "execution_count": 37,
   "metadata": {},
   "outputs": [
    {
     "name": "stdout",
     "output_type": "stream",
     "text": [
      "[youtube] Extracting URL: https://www.youtube.com/watch?v=5zA6OFpkPe0\n",
      "[youtube] 5zA6OFpkPe0: Downloading webpage\n",
      "[youtube] 5zA6OFpkPe0: Downloading tv client config\n",
      "[youtube] 5zA6OFpkPe0: Downloading player 94f771d8-main\n",
      "[youtube] 5zA6OFpkPe0: Downloading tv player API JSON\n",
      "[youtube] 5zA6OFpkPe0: Downloading ios player API JSON\n"
     ]
    },
    {
     "name": "stderr",
     "output_type": "stream",
     "text": [
      "WARNING: [youtube] 5zA6OFpkPe0: Some tv client https formats have been skipped as they are DRM protected. The current session may have an experiment that applies DRM to all videos on the tv client. See  https://github.com/yt-dlp/yt-dlp/issues/12563  for more details.\n",
      "WARNING: [youtube] 5zA6OFpkPe0: Some web client https formats have been skipped as they are missing a url. YouTube is forcing SABR streaming for this client. See  https://github.com/yt-dlp/yt-dlp/issues/12482  for more details\n"
     ]
    },
    {
     "name": "stdout",
     "output_type": "stream",
     "text": [
      "[youtube] 5zA6OFpkPe0: Downloading m3u8 information\n"
     ]
    },
    {
     "name": "stderr",
     "output_type": "stream",
     "text": [
      "WARNING: ffmpeg not found. The downloaded format may not be the best available. Installing ffmpeg is strongly recommended: https://github.com/yt-dlp/yt-dlp#dependencies\n"
     ]
    },
    {
     "name": "stdout",
     "output_type": "stream",
     "text": [
      "[info] 5zA6OFpkPe0: Downloading 1 format(s): 18\n",
      "[download] Destination: Your Offbeat JAIPUR Itinerary - 11 Less Known Places You MUST Visit ｜ Unique Things to do in Jaipur.mp4\n",
      "[download] 100% of  109.31MiB in 00:01:51 at 1000.64KiB/s  \n"
     ]
    }
   ],
   "source": [
    "import yt_dlp\n",
    "\n",
    "def download_video(url, output_dir=\".\"):\n",
    "    ydl_opts = {\n",
    "        'outtmpl': f'{output_dir}/%(title)s.%(ext)s',\n",
    "    }\n",
    "    with yt_dlp.YoutubeDL(ydl_opts) as ydl:\n",
    "        ydl.download([url])\n",
    "\n",
    "if __name__ == '__main__':\n",
    "    video_url = 'https://www.youtube.com/watch?v=5zA6OFpkPe0'\n",
    "    download_video(video_url)"
   ]
  },
  {
   "cell_type": "code",
   "execution_count": 98,
   "metadata": {},
   "outputs": [],
   "source": [
    "fetched_transcript = ytt_api.list(list_video_id[0])"
   ]
  },
  {
   "cell_type": "code",
   "execution_count": 50,
   "metadata": {},
   "outputs": [],
   "source": [
    "fetched_transcript = ytt_api.list(list_video_id[0])"
   ]
  },
  {
   "cell_type": "code",
   "execution_count": 62,
   "metadata": {},
   "outputs": [],
   "source": [
    "async def func():\n",
    "    for i in fetched_transcript:\n",
    "        a = await i.fetch().to_raw_data\n",
    "        print(a)\n"
   ]
  },
  {
   "cell_type": "code",
   "execution_count": 64,
   "metadata": {},
   "outputs": [],
   "source": [
    "a = func()"
   ]
  },
  {
   "cell_type": "code",
   "execution_count": 66,
   "metadata": {},
   "outputs": [
    {
     "data": {
      "text/plain": [
       "False"
      ]
     },
     "execution_count": 66,
     "metadata": {},
     "output_type": "execute_result"
    }
   ],
   "source": [
    "a.cr_running"
   ]
  },
  {
   "cell_type": "code",
   "execution_count": 104,
   "metadata": {},
   "outputs": [
    {
     "name": "stdout",
     "output_type": "stream",
     "text": [
      "True\n"
     ]
    }
   ],
   "source": [
    "for i in fetched_transcript:\n",
    "    print(i.language_code=='hi')\n",
    "    # print(language+\"_\"+len_code.language_code for len_code in k]"
   ]
  },
  {
   "cell_type": "code",
   "execution_count": 100,
   "metadata": {},
   "outputs": [
    {
     "data": {
      "text/plain": [
       "<youtube_transcript_api._transcripts.Transcript at 0x21267efa290>"
      ]
     },
     "execution_count": 100,
     "metadata": {},
     "output_type": "execute_result"
    }
   ],
   "source": [
    "j"
   ]
  },
  {
   "cell_type": "code",
   "execution_count": 90,
   "metadata": {},
   "outputs": [],
   "source": [
    "# k = [len_code for len_code in k]\n",
    "# 'en-US' in k"
   ]
  },
  {
   "cell_type": "code",
   "execution_count": 92,
   "metadata": {},
   "outputs": [
    {
     "ename": "NameError",
     "evalue": "name 'English' is not defined",
     "output_type": "error",
     "traceback": [
      "\u001b[31m---------------------------------------------------------------------------\u001b[39m",
      "\u001b[31mNameError\u001b[39m                                 Traceback (most recent call last)",
      "\u001b[36mCell\u001b[39m\u001b[36m \u001b[39m\u001b[32mIn[92]\u001b[39m\u001b[32m, line 1\u001b[39m\n\u001b[32m----> \u001b[39m\u001b[32m1\u001b[39m \u001b[43mEnglish\u001b[49m\n",
      "\u001b[31mNameError\u001b[39m: name 'English' is not defined"
     ]
    }
   ],
   "source": [
    "English"
   ]
  },
  {
   "cell_type": "code",
   "execution_count": 93,
   "metadata": {},
   "outputs": [
    {
     "data": {
      "text/plain": [
       "'Abkhazian_ab, Afar_aa, Afrikaans_af, Akan_ak, Albanian_sq, Amharic_am, Arabic_ar, Armenian_hy, Assamese_as, Aymara_ay, Azerbaijani_az, Bangla_bn, Bashkir_ba, Basque_eu, Belarusian_be, Bhojpuri_bho, Bosnian_bs, Breton_br, Bulgarian_bg, Burmese_my, Catalan_ca, Cebuano_ceb, Chinese (Simplified)_zh-Hans, Chinese (Traditional)_zh-Hant, Corsican_co, Croatian_hr, Czech_cs, Danish_da, Divehi_dv, Dutch_nl, Dzongkha_dz, English_en, Esperanto_eo, Estonian_et, Ewe_ee, Faroese_fo, Fijian_fj, Filipino_fil, Finnish_fi, French_fr, Ga_gaa, Galician_gl, Ganda_lg, Georgian_ka, German_de, Greek_el, Guarani_gn, Gujarati_gu, Haitian Creole_ht, Hausa_ha, Hawaiian_haw, Hebrew_iw, Hindi_hi, Hmong_hmn, Hungarian_hu, Icelandic_is, Igbo_ig, Indonesian_id, Inuktitut_iu, Irish_ga, Italian_it, Japanese_ja, Javanese_jv, Kalaallisut_kl, Kannada_kn, Kazakh_kk, Khasi_kha, Khmer_km, Kinyarwanda_rw, Korean_ko, Krio_kri, Kurdish_ku, Kyrgyz_ky, Lao_lo, Latin_la, Latvian_lv, Lingala_ln, Lithuanian_lt, Luba-Lulua_lua, Luo_luo, Luxembourgish_lb, Macedonian_mk, Malagasy_mg, Malay_ms, Malayalam_ml, Maltese_mt, Manx_gv, Māori_mi, Marathi_mr, Mongolian_mn, Morisyen_mfe, Nepali_ne, Newari_new, Northern Sotho_nso, Norwegian_no, Nyanja_ny, Occitan_oc, Odia_or, Oromo_om, Ossetic_os, Pampanga_pam, Pashto_ps, Persian_fa, Polish_pl, Portuguese_pt, Portuguese (Portugal)_pt-PT, Punjabi_pa, Quechua_qu, Romanian_ro, Rundi_rn, Russian_ru, Samoan_sm, Sango_sg, Sanskrit_sa, Scottish Gaelic_gd, Serbian_sr, Seselwa Creole French_crs, Shona_sn, Sindhi_sd, Sinhala_si, Slovak_sk, Slovenian_sl, Somali_so, Southern Sotho_st, Spanish_es, Sundanese_su, Swahili_sw, Swati_ss, Swedish_sv, Tajik_tg, Tamil_ta, Tatar_tt, Telugu_te, Thai_th, Tibetan_bo, Tigrinya_ti, Tongan_to, Tsonga_ts, Tswana_tn, Tumbuka_tum, Turkish_tr, Turkmen_tk, Ukrainian_uk, Urdu_ur, Uyghur_ug, Uzbek_uz, Venda_ve, Vietnamese_vi, Waray_war, Welsh_cy, Western Frisian_fy, Wolof_wo, Xhosa_xh, Yiddish_yi, Yoruba_yo, Zulu_zu'"
      ]
     },
     "execution_count": 93,
     "metadata": {},
     "output_type": "execute_result"
    }
   ],
   "source": [
    "', '.join(k)"
   ]
  },
  {
   "cell_type": "code",
   "execution_count": 68,
   "metadata": {},
   "outputs": [],
   "source": [
    "import asyncio\n",
    "\n",
    "async def fetch_data():\n",
    "    print(\"Fetching data...\")\n",
    "    for i in fetched_transcript:\n",
    "        a = await i.fetch().to_raw_data\n",
    "        print(a)\n",
    "    return {\"data\": \"sample data\"}\n",
    "\n",
    "async def main():\n",
    "    print(\"Program start\")\n",
    "    data = await fetch_data() # Pause main until fetch_data completes\n",
    "    print(\"Received:\", data)\n",
    "    print(\"Program end\")\n",
    "\n"
   ]
  },
  {
   "cell_type": "code",
   "execution_count": 69,
   "metadata": {},
   "outputs": [
    {
     "ename": "RuntimeError",
     "evalue": "asyncio.run() cannot be called from a running event loop",
     "output_type": "error",
     "traceback": [
      "\u001b[31m---------------------------------------------------------------------------\u001b[39m",
      "\u001b[31mRuntimeError\u001b[39m                              Traceback (most recent call last)",
      "\u001b[36mCell\u001b[39m\u001b[36m \u001b[39m\u001b[32mIn[69]\u001b[39m\u001b[32m, line 2\u001b[39m\n\u001b[32m      1\u001b[39m \u001b[38;5;28;01mif\u001b[39;00m \u001b[34m__name__\u001b[39m == \u001b[33m\"\u001b[39m\u001b[33m__main__\u001b[39m\u001b[33m\"\u001b[39m:\n\u001b[32m----> \u001b[39m\u001b[32m2\u001b[39m     \u001b[43masyncio\u001b[49m\u001b[43m.\u001b[49m\u001b[43mrun\u001b[49m\u001b[43m(\u001b[49m\u001b[43mmain\u001b[49m\u001b[43m(\u001b[49m\u001b[43m)\u001b[49m\u001b[43m)\u001b[49m\n",
      "\u001b[36mFile \u001b[39m\u001b[32mc:\\Users\\Jatin Arora\\AppData\\Local\\Programs\\Python\\Python311\\Lib\\asyncio\\runners.py:186\u001b[39m, in \u001b[36mrun\u001b[39m\u001b[34m(main, debug)\u001b[39m\n\u001b[32m    161\u001b[39m \u001b[38;5;250m\u001b[39m\u001b[33;03m\"\"\"Execute the coroutine and return the result.\u001b[39;00m\n\u001b[32m    162\u001b[39m \n\u001b[32m    163\u001b[39m \u001b[33;03mThis function runs the passed coroutine, taking care of\u001b[39;00m\n\u001b[32m   (...)\u001b[39m\u001b[32m    182\u001b[39m \u001b[33;03m    asyncio.run(main())\u001b[39;00m\n\u001b[32m    183\u001b[39m \u001b[33;03m\"\"\"\u001b[39;00m\n\u001b[32m    184\u001b[39m \u001b[38;5;28;01mif\u001b[39;00m events._get_running_loop() \u001b[38;5;129;01mis\u001b[39;00m \u001b[38;5;129;01mnot\u001b[39;00m \u001b[38;5;28;01mNone\u001b[39;00m:\n\u001b[32m    185\u001b[39m     \u001b[38;5;66;03m# fail fast with short traceback\u001b[39;00m\n\u001b[32m--> \u001b[39m\u001b[32m186\u001b[39m     \u001b[38;5;28;01mraise\u001b[39;00m \u001b[38;5;167;01mRuntimeError\u001b[39;00m(\n\u001b[32m    187\u001b[39m         \u001b[33m\"\u001b[39m\u001b[33masyncio.run() cannot be called from a running event loop\u001b[39m\u001b[33m\"\u001b[39m)\n\u001b[32m    189\u001b[39m \u001b[38;5;28;01mwith\u001b[39;00m Runner(debug=debug) \u001b[38;5;28;01mas\u001b[39;00m runner:\n\u001b[32m    190\u001b[39m     \u001b[38;5;28;01mreturn\u001b[39;00m runner.run(main)\n",
      "\u001b[31mRuntimeError\u001b[39m: asyncio.run() cannot be called from a running event loop"
     ]
    }
   ],
   "source": [
    "if __name__ == \"__main__\":\n",
    "    asyncio.run(main())"
   ]
  },
  {
   "cell_type": "code",
   "execution_count": null,
   "metadata": {},
   "outputs": [],
   "source": []
  }
 ],
 "metadata": {
  "kernelspec": {
   "display_name": "Python 3",
   "language": "python",
   "name": "python3"
  },
  "language_info": {
   "codemirror_mode": {
    "name": "ipython",
    "version": 3
   },
   "file_extension": ".py",
   "mimetype": "text/x-python",
   "name": "python",
   "nbconvert_exporter": "python",
   "pygments_lexer": "ipython3",
   "version": "3.11.0"
  },
  "orig_nbformat": 4
 },
 "nbformat": 4,
 "nbformat_minor": 2
}
